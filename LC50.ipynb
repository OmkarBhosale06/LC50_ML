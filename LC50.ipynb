{
  "cells": [
    {
      "cell_type": "markdown",
      "metadata": {
        "id": "view-in-github",
        "colab_type": "text"
      },
      "source": [
        "<a href=\"https://colab.research.google.com/github/OmkarBhosale06/LC50_ML/blob/main/LC50.ipynb\" target=\"_parent\"><img src=\"https://colab.research.google.com/assets/colab-badge.svg\" alt=\"Open In Colab\"/></a>"
      ]
    },
    {
      "cell_type": "code",
      "execution_count": 7,
      "metadata": {
        "id": "VGPz9jKEW1RO"
      },
      "outputs": [],
      "source": [
        "import pandas as pd \n",
        "import numpy as np\n",
        "import matplotlib.pyplot as plt\n",
        "from keras.models import Sequential\n",
        "from keras.layers import Dense\n",
        "from sklearn.model_selection import train_test_split\n",
        "from sklearn.linear_model import LinearRegression,Ridge,Lasso"
      ]
    },
    {
      "cell_type": "code",
      "execution_count": 22,
      "metadata": {
        "id": "enTHTgByYA_C"
      },
      "outputs": [],
      "source": [
        "dataset = '/content/qsar_fish_toxicity.csv'\n",
        "data = pd.read_csv(dataset)\n",
        "\n",
        "      \n",
        "  \n",
        "  \n",
        "\n"
      ]
    },
    {
      "cell_type": "code",
      "execution_count": 23,
      "metadata": {
        "colab": {
          "base_uri": "https://localhost:8080/",
          "height": 206
        },
        "id": "sNzeFzsgYZFI",
        "outputId": "44930179-3869-44ad-ea10-5a9db916f63e"
      },
      "outputs": [
        {
          "output_type": "execute_result",
          "data": {
            "text/plain": [
              "    CIC0  SM1_Dz(Z)  GATS1i  NdsCH  NdssC  MLOGP  LC50 [-LOG(mol/L)]\n",
              "0  3.260      0.829   1.676      0      1  1.453               3.770\n",
              "1  2.189      0.580   0.863      0      0  1.348               3.115\n",
              "2  2.125      0.638   0.831      0      0  1.348               3.531\n",
              "3  3.027      0.331   1.472      1      0  1.807               3.510\n",
              "4  2.094      0.827   0.860      0      0  1.886               5.390"
            ],
            "text/html": [
              "\n",
              "  <div id=\"df-d7f8a31b-bc2e-4442-8f50-cbd4171a9293\">\n",
              "    <div class=\"colab-df-container\">\n",
              "      <div>\n",
              "<style scoped>\n",
              "    .dataframe tbody tr th:only-of-type {\n",
              "        vertical-align: middle;\n",
              "    }\n",
              "\n",
              "    .dataframe tbody tr th {\n",
              "        vertical-align: top;\n",
              "    }\n",
              "\n",
              "    .dataframe thead th {\n",
              "        text-align: right;\n",
              "    }\n",
              "</style>\n",
              "<table border=\"1\" class=\"dataframe\">\n",
              "  <thead>\n",
              "    <tr style=\"text-align: right;\">\n",
              "      <th></th>\n",
              "      <th>CIC0</th>\n",
              "      <th>SM1_Dz(Z)</th>\n",
              "      <th>GATS1i</th>\n",
              "      <th>NdsCH</th>\n",
              "      <th>NdssC</th>\n",
              "      <th>MLOGP</th>\n",
              "      <th>LC50 [-LOG(mol/L)]</th>\n",
              "    </tr>\n",
              "  </thead>\n",
              "  <tbody>\n",
              "    <tr>\n",
              "      <th>0</th>\n",
              "      <td>3.260</td>\n",
              "      <td>0.829</td>\n",
              "      <td>1.676</td>\n",
              "      <td>0</td>\n",
              "      <td>1</td>\n",
              "      <td>1.453</td>\n",
              "      <td>3.770</td>\n",
              "    </tr>\n",
              "    <tr>\n",
              "      <th>1</th>\n",
              "      <td>2.189</td>\n",
              "      <td>0.580</td>\n",
              "      <td>0.863</td>\n",
              "      <td>0</td>\n",
              "      <td>0</td>\n",
              "      <td>1.348</td>\n",
              "      <td>3.115</td>\n",
              "    </tr>\n",
              "    <tr>\n",
              "      <th>2</th>\n",
              "      <td>2.125</td>\n",
              "      <td>0.638</td>\n",
              "      <td>0.831</td>\n",
              "      <td>0</td>\n",
              "      <td>0</td>\n",
              "      <td>1.348</td>\n",
              "      <td>3.531</td>\n",
              "    </tr>\n",
              "    <tr>\n",
              "      <th>3</th>\n",
              "      <td>3.027</td>\n",
              "      <td>0.331</td>\n",
              "      <td>1.472</td>\n",
              "      <td>1</td>\n",
              "      <td>0</td>\n",
              "      <td>1.807</td>\n",
              "      <td>3.510</td>\n",
              "    </tr>\n",
              "    <tr>\n",
              "      <th>4</th>\n",
              "      <td>2.094</td>\n",
              "      <td>0.827</td>\n",
              "      <td>0.860</td>\n",
              "      <td>0</td>\n",
              "      <td>0</td>\n",
              "      <td>1.886</td>\n",
              "      <td>5.390</td>\n",
              "    </tr>\n",
              "  </tbody>\n",
              "</table>\n",
              "</div>\n",
              "      <button class=\"colab-df-convert\" onclick=\"convertToInteractive('df-d7f8a31b-bc2e-4442-8f50-cbd4171a9293')\"\n",
              "              title=\"Convert this dataframe to an interactive table.\"\n",
              "              style=\"display:none;\">\n",
              "        \n",
              "  <svg xmlns=\"http://www.w3.org/2000/svg\" height=\"24px\"viewBox=\"0 0 24 24\"\n",
              "       width=\"24px\">\n",
              "    <path d=\"M0 0h24v24H0V0z\" fill=\"none\"/>\n",
              "    <path d=\"M18.56 5.44l.94 2.06.94-2.06 2.06-.94-2.06-.94-.94-2.06-.94 2.06-2.06.94zm-11 1L8.5 8.5l.94-2.06 2.06-.94-2.06-.94L8.5 2.5l-.94 2.06-2.06.94zm10 10l.94 2.06.94-2.06 2.06-.94-2.06-.94-.94-2.06-.94 2.06-2.06.94z\"/><path d=\"M17.41 7.96l-1.37-1.37c-.4-.4-.92-.59-1.43-.59-.52 0-1.04.2-1.43.59L10.3 9.45l-7.72 7.72c-.78.78-.78 2.05 0 2.83L4 21.41c.39.39.9.59 1.41.59.51 0 1.02-.2 1.41-.59l7.78-7.78 2.81-2.81c.8-.78.8-2.07 0-2.86zM5.41 20L4 18.59l7.72-7.72 1.47 1.35L5.41 20z\"/>\n",
              "  </svg>\n",
              "      </button>\n",
              "      \n",
              "  <style>\n",
              "    .colab-df-container {\n",
              "      display:flex;\n",
              "      flex-wrap:wrap;\n",
              "      gap: 12px;\n",
              "    }\n",
              "\n",
              "    .colab-df-convert {\n",
              "      background-color: #E8F0FE;\n",
              "      border: none;\n",
              "      border-radius: 50%;\n",
              "      cursor: pointer;\n",
              "      display: none;\n",
              "      fill: #1967D2;\n",
              "      height: 32px;\n",
              "      padding: 0 0 0 0;\n",
              "      width: 32px;\n",
              "    }\n",
              "\n",
              "    .colab-df-convert:hover {\n",
              "      background-color: #E2EBFA;\n",
              "      box-shadow: 0px 1px 2px rgba(60, 64, 67, 0.3), 0px 1px 3px 1px rgba(60, 64, 67, 0.15);\n",
              "      fill: #174EA6;\n",
              "    }\n",
              "\n",
              "    [theme=dark] .colab-df-convert {\n",
              "      background-color: #3B4455;\n",
              "      fill: #D2E3FC;\n",
              "    }\n",
              "\n",
              "    [theme=dark] .colab-df-convert:hover {\n",
              "      background-color: #434B5C;\n",
              "      box-shadow: 0px 1px 3px 1px rgba(0, 0, 0, 0.15);\n",
              "      filter: drop-shadow(0px 1px 2px rgba(0, 0, 0, 0.3));\n",
              "      fill: #FFFFFF;\n",
              "    }\n",
              "  </style>\n",
              "\n",
              "      <script>\n",
              "        const buttonEl =\n",
              "          document.querySelector('#df-d7f8a31b-bc2e-4442-8f50-cbd4171a9293 button.colab-df-convert');\n",
              "        buttonEl.style.display =\n",
              "          google.colab.kernel.accessAllowed ? 'block' : 'none';\n",
              "\n",
              "        async function convertToInteractive(key) {\n",
              "          const element = document.querySelector('#df-d7f8a31b-bc2e-4442-8f50-cbd4171a9293');\n",
              "          const dataTable =\n",
              "            await google.colab.kernel.invokeFunction('convertToInteractive',\n",
              "                                                     [key], {});\n",
              "          if (!dataTable) return;\n",
              "\n",
              "          const docLinkHtml = 'Like what you see? Visit the ' +\n",
              "            '<a target=\"_blank\" href=https://colab.research.google.com/notebooks/data_table.ipynb>data table notebook</a>'\n",
              "            + ' to learn more about interactive tables.';\n",
              "          element.innerHTML = '';\n",
              "          dataTable['output_type'] = 'display_data';\n",
              "          await google.colab.output.renderOutput(dataTable, element);\n",
              "          const docLink = document.createElement('div');\n",
              "          docLink.innerHTML = docLinkHtml;\n",
              "          element.appendChild(docLink);\n",
              "        }\n",
              "      </script>\n",
              "    </div>\n",
              "  </div>\n",
              "  "
            ]
          },
          "metadata": {},
          "execution_count": 23
        }
      ],
      "source": [
        "\n",
        "data.head()"
      ]
    },
    {
      "cell_type": "code",
      "source": [
        "data['NdsCH'].value_counts()"
      ],
      "metadata": {
        "colab": {
          "base_uri": "https://localhost:8080/"
        },
        "id": "t_0dl0j8mcCG",
        "outputId": "0b392275-663d-4354-da46-82680b3337e9"
      },
      "execution_count": 24,
      "outputs": [
        {
          "output_type": "execute_result",
          "data": {
            "text/plain": [
              "0    760\n",
              "1    107\n",
              "2     29\n",
              "4      7\n",
              "3      5\n",
              "Name: NdsCH, dtype: int64"
            ]
          },
          "metadata": {},
          "execution_count": 24
        }
      ]
    },
    {
      "cell_type": "code",
      "source": [
        "\n",
        "column_names = list(data.columns)\n",
        "column_names"
      ],
      "metadata": {
        "colab": {
          "base_uri": "https://localhost:8080/"
        },
        "id": "4pzuIb0AlgZ9",
        "outputId": "7f61284c-1f64-4526-90e2-5f33205465ae"
      },
      "execution_count": 25,
      "outputs": [
        {
          "output_type": "execute_result",
          "data": {
            "text/plain": [
              "['CIC0',\n",
              " 'SM1_Dz(Z)',\n",
              " 'GATS1i',\n",
              " 'NdsCH',\n",
              " 'NdssC',\n",
              " 'MLOGP',\n",
              " 'LC50 [-LOG(mol/L)]']"
            ]
          },
          "metadata": {},
          "execution_count": 25
        }
      ]
    },
    {
      "cell_type": "code",
      "execution_count": 26,
      "metadata": {
        "colab": {
          "base_uri": "https://localhost:8080/",
          "height": 206
        },
        "id": "4bKMIdaRZZkq",
        "outputId": "8b45de04-6f7c-405f-98df-73d6a44ceeae"
      },
      "outputs": [
        {
          "output_type": "execute_result",
          "data": {
            "text/plain": [
              "      CIC0  SM1_Dz(Z)  GATS1i  NdsCH  NdssC  MLOGP  LC50 [-LOG(mol/L)]\n",
              "903  2.801      0.728   2.226      0      2  0.736               3.109\n",
              "904  3.652      0.872   0.867      2      3  3.983               4.040\n",
              "905  3.763      0.916   0.878      0      6  2.918               4.818\n",
              "906  2.831      1.393   1.077      0      1  0.906               5.317\n",
              "907  4.057      1.032   1.183      1      3  4.754               8.201"
            ],
            "text/html": [
              "\n",
              "  <div id=\"df-94bfc724-e57b-4213-b213-20cb310634be\">\n",
              "    <div class=\"colab-df-container\">\n",
              "      <div>\n",
              "<style scoped>\n",
              "    .dataframe tbody tr th:only-of-type {\n",
              "        vertical-align: middle;\n",
              "    }\n",
              "\n",
              "    .dataframe tbody tr th {\n",
              "        vertical-align: top;\n",
              "    }\n",
              "\n",
              "    .dataframe thead th {\n",
              "        text-align: right;\n",
              "    }\n",
              "</style>\n",
              "<table border=\"1\" class=\"dataframe\">\n",
              "  <thead>\n",
              "    <tr style=\"text-align: right;\">\n",
              "      <th></th>\n",
              "      <th>CIC0</th>\n",
              "      <th>SM1_Dz(Z)</th>\n",
              "      <th>GATS1i</th>\n",
              "      <th>NdsCH</th>\n",
              "      <th>NdssC</th>\n",
              "      <th>MLOGP</th>\n",
              "      <th>LC50 [-LOG(mol/L)]</th>\n",
              "    </tr>\n",
              "  </thead>\n",
              "  <tbody>\n",
              "    <tr>\n",
              "      <th>903</th>\n",
              "      <td>2.801</td>\n",
              "      <td>0.728</td>\n",
              "      <td>2.226</td>\n",
              "      <td>0</td>\n",
              "      <td>2</td>\n",
              "      <td>0.736</td>\n",
              "      <td>3.109</td>\n",
              "    </tr>\n",
              "    <tr>\n",
              "      <th>904</th>\n",
              "      <td>3.652</td>\n",
              "      <td>0.872</td>\n",
              "      <td>0.867</td>\n",
              "      <td>2</td>\n",
              "      <td>3</td>\n",
              "      <td>3.983</td>\n",
              "      <td>4.040</td>\n",
              "    </tr>\n",
              "    <tr>\n",
              "      <th>905</th>\n",
              "      <td>3.763</td>\n",
              "      <td>0.916</td>\n",
              "      <td>0.878</td>\n",
              "      <td>0</td>\n",
              "      <td>6</td>\n",
              "      <td>2.918</td>\n",
              "      <td>4.818</td>\n",
              "    </tr>\n",
              "    <tr>\n",
              "      <th>906</th>\n",
              "      <td>2.831</td>\n",
              "      <td>1.393</td>\n",
              "      <td>1.077</td>\n",
              "      <td>0</td>\n",
              "      <td>1</td>\n",
              "      <td>0.906</td>\n",
              "      <td>5.317</td>\n",
              "    </tr>\n",
              "    <tr>\n",
              "      <th>907</th>\n",
              "      <td>4.057</td>\n",
              "      <td>1.032</td>\n",
              "      <td>1.183</td>\n",
              "      <td>1</td>\n",
              "      <td>3</td>\n",
              "      <td>4.754</td>\n",
              "      <td>8.201</td>\n",
              "    </tr>\n",
              "  </tbody>\n",
              "</table>\n",
              "</div>\n",
              "      <button class=\"colab-df-convert\" onclick=\"convertToInteractive('df-94bfc724-e57b-4213-b213-20cb310634be')\"\n",
              "              title=\"Convert this dataframe to an interactive table.\"\n",
              "              style=\"display:none;\">\n",
              "        \n",
              "  <svg xmlns=\"http://www.w3.org/2000/svg\" height=\"24px\"viewBox=\"0 0 24 24\"\n",
              "       width=\"24px\">\n",
              "    <path d=\"M0 0h24v24H0V0z\" fill=\"none\"/>\n",
              "    <path d=\"M18.56 5.44l.94 2.06.94-2.06 2.06-.94-2.06-.94-.94-2.06-.94 2.06-2.06.94zm-11 1L8.5 8.5l.94-2.06 2.06-.94-2.06-.94L8.5 2.5l-.94 2.06-2.06.94zm10 10l.94 2.06.94-2.06 2.06-.94-2.06-.94-.94-2.06-.94 2.06-2.06.94z\"/><path d=\"M17.41 7.96l-1.37-1.37c-.4-.4-.92-.59-1.43-.59-.52 0-1.04.2-1.43.59L10.3 9.45l-7.72 7.72c-.78.78-.78 2.05 0 2.83L4 21.41c.39.39.9.59 1.41.59.51 0 1.02-.2 1.41-.59l7.78-7.78 2.81-2.81c.8-.78.8-2.07 0-2.86zM5.41 20L4 18.59l7.72-7.72 1.47 1.35L5.41 20z\"/>\n",
              "  </svg>\n",
              "      </button>\n",
              "      \n",
              "  <style>\n",
              "    .colab-df-container {\n",
              "      display:flex;\n",
              "      flex-wrap:wrap;\n",
              "      gap: 12px;\n",
              "    }\n",
              "\n",
              "    .colab-df-convert {\n",
              "      background-color: #E8F0FE;\n",
              "      border: none;\n",
              "      border-radius: 50%;\n",
              "      cursor: pointer;\n",
              "      display: none;\n",
              "      fill: #1967D2;\n",
              "      height: 32px;\n",
              "      padding: 0 0 0 0;\n",
              "      width: 32px;\n",
              "    }\n",
              "\n",
              "    .colab-df-convert:hover {\n",
              "      background-color: #E2EBFA;\n",
              "      box-shadow: 0px 1px 2px rgba(60, 64, 67, 0.3), 0px 1px 3px 1px rgba(60, 64, 67, 0.15);\n",
              "      fill: #174EA6;\n",
              "    }\n",
              "\n",
              "    [theme=dark] .colab-df-convert {\n",
              "      background-color: #3B4455;\n",
              "      fill: #D2E3FC;\n",
              "    }\n",
              "\n",
              "    [theme=dark] .colab-df-convert:hover {\n",
              "      background-color: #434B5C;\n",
              "      box-shadow: 0px 1px 3px 1px rgba(0, 0, 0, 0.15);\n",
              "      filter: drop-shadow(0px 1px 2px rgba(0, 0, 0, 0.3));\n",
              "      fill: #FFFFFF;\n",
              "    }\n",
              "  </style>\n",
              "\n",
              "      <script>\n",
              "        const buttonEl =\n",
              "          document.querySelector('#df-94bfc724-e57b-4213-b213-20cb310634be button.colab-df-convert');\n",
              "        buttonEl.style.display =\n",
              "          google.colab.kernel.accessAllowed ? 'block' : 'none';\n",
              "\n",
              "        async function convertToInteractive(key) {\n",
              "          const element = document.querySelector('#df-94bfc724-e57b-4213-b213-20cb310634be');\n",
              "          const dataTable =\n",
              "            await google.colab.kernel.invokeFunction('convertToInteractive',\n",
              "                                                     [key], {});\n",
              "          if (!dataTable) return;\n",
              "\n",
              "          const docLinkHtml = 'Like what you see? Visit the ' +\n",
              "            '<a target=\"_blank\" href=https://colab.research.google.com/notebooks/data_table.ipynb>data table notebook</a>'\n",
              "            + ' to learn more about interactive tables.';\n",
              "          element.innerHTML = '';\n",
              "          dataTable['output_type'] = 'display_data';\n",
              "          await google.colab.output.renderOutput(dataTable, element);\n",
              "          const docLink = document.createElement('div');\n",
              "          docLink.innerHTML = docLinkHtml;\n",
              "          element.appendChild(docLink);\n",
              "        }\n",
              "      </script>\n",
              "    </div>\n",
              "  </div>\n",
              "  "
            ]
          },
          "metadata": {},
          "execution_count": 26
        }
      ],
      "source": [
        "data.tail()"
      ]
    },
    {
      "cell_type": "code",
      "execution_count": 27,
      "metadata": {
        "colab": {
          "base_uri": "https://localhost:8080/"
        },
        "id": "0cdAJ-zVZbwc",
        "outputId": "c0fb8b66-c92f-420b-eaea-bcd6b1b1e1a6"
      },
      "outputs": [
        {
          "output_type": "execute_result",
          "data": {
            "text/plain": [
              "CIC0                  0\n",
              "SM1_Dz(Z)             0\n",
              "GATS1i                0\n",
              "NdsCH                 0\n",
              "NdssC                 0\n",
              "MLOGP                 0\n",
              "LC50 [-LOG(mol/L)]    0\n",
              "dtype: int64"
            ]
          },
          "metadata": {},
          "execution_count": 27
        }
      ],
      "source": [
        "data.isnull().sum()"
      ]
    },
    {
      "cell_type": "code",
      "execution_count": 28,
      "metadata": {
        "colab": {
          "base_uri": "https://localhost:8080/",
          "height": 300
        },
        "id": "hvcT3bp09_X3",
        "outputId": "df78a00c-8ec2-4906-a7ab-c709fd951aa1"
      },
      "outputs": [
        {
          "output_type": "execute_result",
          "data": {
            "text/plain": [
              "             CIC0   SM1_Dz(Z)      GATS1i       NdsCH       NdssC       MLOGP  \\\n",
              "count  908.000000  908.000000  908.000000  908.000000  908.000000  908.000000   \n",
              "mean     2.898129    0.628468    1.293591    0.229075    0.485683    2.109285   \n",
              "std      0.756088    0.428459    0.394303    0.605335    0.861279    1.433181   \n",
              "min      0.667000    0.000000    0.396000    0.000000    0.000000   -2.884000   \n",
              "25%      2.347000    0.223000    0.950750    0.000000    0.000000    1.209000   \n",
              "50%      2.934000    0.570000    1.240500    0.000000    0.000000    2.127000   \n",
              "75%      3.407000    0.892750    1.562250    0.000000    1.000000    3.105000   \n",
              "max      5.926000    2.171000    2.920000    4.000000    6.000000    6.515000   \n",
              "\n",
              "       LC50 [-LOG(mol/L)]  \n",
              "count          908.000000  \n",
              "mean             4.064431  \n",
              "std              1.455698  \n",
              "min              0.053000  \n",
              "25%              3.151750  \n",
              "50%              3.987500  \n",
              "75%              4.907500  \n",
              "max              9.612000  "
            ],
            "text/html": [
              "\n",
              "  <div id=\"df-5b9703b8-c6c7-41dd-a2f6-4f5933cea730\">\n",
              "    <div class=\"colab-df-container\">\n",
              "      <div>\n",
              "<style scoped>\n",
              "    .dataframe tbody tr th:only-of-type {\n",
              "        vertical-align: middle;\n",
              "    }\n",
              "\n",
              "    .dataframe tbody tr th {\n",
              "        vertical-align: top;\n",
              "    }\n",
              "\n",
              "    .dataframe thead th {\n",
              "        text-align: right;\n",
              "    }\n",
              "</style>\n",
              "<table border=\"1\" class=\"dataframe\">\n",
              "  <thead>\n",
              "    <tr style=\"text-align: right;\">\n",
              "      <th></th>\n",
              "      <th>CIC0</th>\n",
              "      <th>SM1_Dz(Z)</th>\n",
              "      <th>GATS1i</th>\n",
              "      <th>NdsCH</th>\n",
              "      <th>NdssC</th>\n",
              "      <th>MLOGP</th>\n",
              "      <th>LC50 [-LOG(mol/L)]</th>\n",
              "    </tr>\n",
              "  </thead>\n",
              "  <tbody>\n",
              "    <tr>\n",
              "      <th>count</th>\n",
              "      <td>908.000000</td>\n",
              "      <td>908.000000</td>\n",
              "      <td>908.000000</td>\n",
              "      <td>908.000000</td>\n",
              "      <td>908.000000</td>\n",
              "      <td>908.000000</td>\n",
              "      <td>908.000000</td>\n",
              "    </tr>\n",
              "    <tr>\n",
              "      <th>mean</th>\n",
              "      <td>2.898129</td>\n",
              "      <td>0.628468</td>\n",
              "      <td>1.293591</td>\n",
              "      <td>0.229075</td>\n",
              "      <td>0.485683</td>\n",
              "      <td>2.109285</td>\n",
              "      <td>4.064431</td>\n",
              "    </tr>\n",
              "    <tr>\n",
              "      <th>std</th>\n",
              "      <td>0.756088</td>\n",
              "      <td>0.428459</td>\n",
              "      <td>0.394303</td>\n",
              "      <td>0.605335</td>\n",
              "      <td>0.861279</td>\n",
              "      <td>1.433181</td>\n",
              "      <td>1.455698</td>\n",
              "    </tr>\n",
              "    <tr>\n",
              "      <th>min</th>\n",
              "      <td>0.667000</td>\n",
              "      <td>0.000000</td>\n",
              "      <td>0.396000</td>\n",
              "      <td>0.000000</td>\n",
              "      <td>0.000000</td>\n",
              "      <td>-2.884000</td>\n",
              "      <td>0.053000</td>\n",
              "    </tr>\n",
              "    <tr>\n",
              "      <th>25%</th>\n",
              "      <td>2.347000</td>\n",
              "      <td>0.223000</td>\n",
              "      <td>0.950750</td>\n",
              "      <td>0.000000</td>\n",
              "      <td>0.000000</td>\n",
              "      <td>1.209000</td>\n",
              "      <td>3.151750</td>\n",
              "    </tr>\n",
              "    <tr>\n",
              "      <th>50%</th>\n",
              "      <td>2.934000</td>\n",
              "      <td>0.570000</td>\n",
              "      <td>1.240500</td>\n",
              "      <td>0.000000</td>\n",
              "      <td>0.000000</td>\n",
              "      <td>2.127000</td>\n",
              "      <td>3.987500</td>\n",
              "    </tr>\n",
              "    <tr>\n",
              "      <th>75%</th>\n",
              "      <td>3.407000</td>\n",
              "      <td>0.892750</td>\n",
              "      <td>1.562250</td>\n",
              "      <td>0.000000</td>\n",
              "      <td>1.000000</td>\n",
              "      <td>3.105000</td>\n",
              "      <td>4.907500</td>\n",
              "    </tr>\n",
              "    <tr>\n",
              "      <th>max</th>\n",
              "      <td>5.926000</td>\n",
              "      <td>2.171000</td>\n",
              "      <td>2.920000</td>\n",
              "      <td>4.000000</td>\n",
              "      <td>6.000000</td>\n",
              "      <td>6.515000</td>\n",
              "      <td>9.612000</td>\n",
              "    </tr>\n",
              "  </tbody>\n",
              "</table>\n",
              "</div>\n",
              "      <button class=\"colab-df-convert\" onclick=\"convertToInteractive('df-5b9703b8-c6c7-41dd-a2f6-4f5933cea730')\"\n",
              "              title=\"Convert this dataframe to an interactive table.\"\n",
              "              style=\"display:none;\">\n",
              "        \n",
              "  <svg xmlns=\"http://www.w3.org/2000/svg\" height=\"24px\"viewBox=\"0 0 24 24\"\n",
              "       width=\"24px\">\n",
              "    <path d=\"M0 0h24v24H0V0z\" fill=\"none\"/>\n",
              "    <path d=\"M18.56 5.44l.94 2.06.94-2.06 2.06-.94-2.06-.94-.94-2.06-.94 2.06-2.06.94zm-11 1L8.5 8.5l.94-2.06 2.06-.94-2.06-.94L8.5 2.5l-.94 2.06-2.06.94zm10 10l.94 2.06.94-2.06 2.06-.94-2.06-.94-.94-2.06-.94 2.06-2.06.94z\"/><path d=\"M17.41 7.96l-1.37-1.37c-.4-.4-.92-.59-1.43-.59-.52 0-1.04.2-1.43.59L10.3 9.45l-7.72 7.72c-.78.78-.78 2.05 0 2.83L4 21.41c.39.39.9.59 1.41.59.51 0 1.02-.2 1.41-.59l7.78-7.78 2.81-2.81c.8-.78.8-2.07 0-2.86zM5.41 20L4 18.59l7.72-7.72 1.47 1.35L5.41 20z\"/>\n",
              "  </svg>\n",
              "      </button>\n",
              "      \n",
              "  <style>\n",
              "    .colab-df-container {\n",
              "      display:flex;\n",
              "      flex-wrap:wrap;\n",
              "      gap: 12px;\n",
              "    }\n",
              "\n",
              "    .colab-df-convert {\n",
              "      background-color: #E8F0FE;\n",
              "      border: none;\n",
              "      border-radius: 50%;\n",
              "      cursor: pointer;\n",
              "      display: none;\n",
              "      fill: #1967D2;\n",
              "      height: 32px;\n",
              "      padding: 0 0 0 0;\n",
              "      width: 32px;\n",
              "    }\n",
              "\n",
              "    .colab-df-convert:hover {\n",
              "      background-color: #E2EBFA;\n",
              "      box-shadow: 0px 1px 2px rgba(60, 64, 67, 0.3), 0px 1px 3px 1px rgba(60, 64, 67, 0.15);\n",
              "      fill: #174EA6;\n",
              "    }\n",
              "\n",
              "    [theme=dark] .colab-df-convert {\n",
              "      background-color: #3B4455;\n",
              "      fill: #D2E3FC;\n",
              "    }\n",
              "\n",
              "    [theme=dark] .colab-df-convert:hover {\n",
              "      background-color: #434B5C;\n",
              "      box-shadow: 0px 1px 3px 1px rgba(0, 0, 0, 0.15);\n",
              "      filter: drop-shadow(0px 1px 2px rgba(0, 0, 0, 0.3));\n",
              "      fill: #FFFFFF;\n",
              "    }\n",
              "  </style>\n",
              "\n",
              "      <script>\n",
              "        const buttonEl =\n",
              "          document.querySelector('#df-5b9703b8-c6c7-41dd-a2f6-4f5933cea730 button.colab-df-convert');\n",
              "        buttonEl.style.display =\n",
              "          google.colab.kernel.accessAllowed ? 'block' : 'none';\n",
              "\n",
              "        async function convertToInteractive(key) {\n",
              "          const element = document.querySelector('#df-5b9703b8-c6c7-41dd-a2f6-4f5933cea730');\n",
              "          const dataTable =\n",
              "            await google.colab.kernel.invokeFunction('convertToInteractive',\n",
              "                                                     [key], {});\n",
              "          if (!dataTable) return;\n",
              "\n",
              "          const docLinkHtml = 'Like what you see? Visit the ' +\n",
              "            '<a target=\"_blank\" href=https://colab.research.google.com/notebooks/data_table.ipynb>data table notebook</a>'\n",
              "            + ' to learn more about interactive tables.';\n",
              "          element.innerHTML = '';\n",
              "          dataTable['output_type'] = 'display_data';\n",
              "          await google.colab.output.renderOutput(dataTable, element);\n",
              "          const docLink = document.createElement('div');\n",
              "          docLink.innerHTML = docLinkHtml;\n",
              "          element.appendChild(docLink);\n",
              "        }\n",
              "      </script>\n",
              "    </div>\n",
              "  </div>\n",
              "  "
            ]
          },
          "metadata": {},
          "execution_count": 28
        }
      ],
      "source": [
        "\n",
        "data.describe()"
      ]
    },
    {
      "cell_type": "code",
      "source": [
        "\n",
        "data.std()"
      ],
      "metadata": {
        "colab": {
          "base_uri": "https://localhost:8080/"
        },
        "id": "7gAPOaD0q4b3",
        "outputId": "dadcdb9e-1967-448b-9a33-6311224c4944"
      },
      "execution_count": 29,
      "outputs": [
        {
          "output_type": "execute_result",
          "data": {
            "text/plain": [
              "CIC0                  0.756088\n",
              "SM1_Dz(Z)             0.428459\n",
              "GATS1i                0.394303\n",
              "NdsCH                 0.605335\n",
              "NdssC                 0.861279\n",
              "MLOGP                 1.433181\n",
              "LC50 [-LOG(mol/L)]    1.455698\n",
              "dtype: float64"
            ]
          },
          "metadata": {},
          "execution_count": 29
        }
      ]
    },
    {
      "cell_type": "code",
      "source": [
        "from sklearn.preprocessing import StandardScaler\n",
        "scaler = StandardScaler()\n",
        "scaled_data=scaler.fit_transform(data)\n",
        "print(scaled_data)"
      ],
      "metadata": {
        "colab": {
          "base_uri": "https://localhost:8080/"
        },
        "id": "Bd4vBxqphtXm",
        "outputId": "6157ce36-a598-4fef-89d4-45c0633bf609"
      },
      "execution_count": 30,
      "outputs": [
        {
          "output_type": "stream",
          "name": "stdout",
          "text": [
            "[[ 0.47887329  0.46828848  0.97036948 ...  0.59748428 -0.45817453\n",
            "  -0.20237219]\n",
            " [-0.93840825 -0.11318414 -1.09263435 ... -0.56421963 -0.53147852\n",
            "  -0.652576  ]\n",
            " [-1.02310108  0.02225928 -1.173835   ... -0.56421963 -0.53147852\n",
            "  -0.36664503]\n",
            " ...\n",
            " [ 1.14450599  0.67145361 -1.05457155 ...  6.40600388  0.56459064\n",
            "   0.5179539 ]\n",
            " [-0.08883332  1.78535897 -0.54960505 ...  0.59748428 -0.8400534\n",
            "   0.86093359]\n",
            " [ 1.53356366  0.94234045 -0.28062792 ...  2.92089212  1.84636323\n",
            "   2.84320501]]\n"
          ]
        }
      ]
    },
    {
      "cell_type": "code",
      "source": [
        "\n",
        "df = pd.DataFrame(scaled_data)\n",
        "df.head()\n",
        "df.shape"
      ],
      "metadata": {
        "colab": {
          "base_uri": "https://localhost:8080/"
        },
        "id": "7rhTrZJCh-98",
        "outputId": "fda81f1d-75a7-43e2-b091-a62c4850848e"
      },
      "execution_count": 31,
      "outputs": [
        {
          "output_type": "execute_result",
          "data": {
            "text/plain": [
              "(908, 7)"
            ]
          },
          "metadata": {},
          "execution_count": 31
        }
      ]
    },
    {
      "cell_type": "code",
      "source": [
        "df.columns = column_names\n",
        "df"
      ],
      "metadata": {
        "id": "dPRVJOpUi5CZ",
        "colab": {
          "base_uri": "https://localhost:8080/",
          "height": 423
        },
        "outputId": "446c15b8-41ab-44db-b327-ab0addb67e19"
      },
      "execution_count": 32,
      "outputs": [
        {
          "output_type": "execute_result",
          "data": {
            "text/plain": [
              "         CIC0  SM1_Dz(Z)    GATS1i     NdsCH     NdssC     MLOGP  \\\n",
              "0    0.478873   0.468288  0.970369 -0.378635  0.597484 -0.458175   \n",
              "1   -0.938408  -0.113184 -1.092634 -0.378635 -0.564220 -0.531479   \n",
              "2   -1.023101   0.022259 -1.173835 -0.378635 -0.564220 -0.531479   \n",
              "3    0.170538  -0.694657  0.452715  1.274253 -0.564220 -0.211035   \n",
              "4   -1.064124   0.463618 -1.100247 -0.378635 -0.564220 -0.155883   \n",
              "..        ...        ...       ...       ...       ...       ...   \n",
              "903 -0.128533   0.232430  2.366006 -0.378635  1.759188 -0.958736   \n",
              "904  0.997617   0.568703 -1.082484  2.927141  2.920892  1.308103   \n",
              "905  1.144506   0.671454 -1.054572 -0.378635  6.406004  0.564591   \n",
              "906 -0.088833   1.785359 -0.549605 -0.378635  0.597484 -0.840053   \n",
              "907  1.533564   0.942340 -0.280628  1.274253  2.920892  1.846363   \n",
              "\n",
              "     LC50 [-LOG(mol/L)]  \n",
              "0             -0.202372  \n",
              "1             -0.652576  \n",
              "2             -0.366645  \n",
              "3             -0.381079  \n",
              "4              0.911109  \n",
              "..                  ...  \n",
              "903           -0.656700  \n",
              "904           -0.016792  \n",
              "905            0.517954  \n",
              "906            0.860934  \n",
              "907            2.843205  \n",
              "\n",
              "[908 rows x 7 columns]"
            ],
            "text/html": [
              "\n",
              "  <div id=\"df-41c8fbbd-2814-4207-9442-86cb59aa0089\">\n",
              "    <div class=\"colab-df-container\">\n",
              "      <div>\n",
              "<style scoped>\n",
              "    .dataframe tbody tr th:only-of-type {\n",
              "        vertical-align: middle;\n",
              "    }\n",
              "\n",
              "    .dataframe tbody tr th {\n",
              "        vertical-align: top;\n",
              "    }\n",
              "\n",
              "    .dataframe thead th {\n",
              "        text-align: right;\n",
              "    }\n",
              "</style>\n",
              "<table border=\"1\" class=\"dataframe\">\n",
              "  <thead>\n",
              "    <tr style=\"text-align: right;\">\n",
              "      <th></th>\n",
              "      <th>CIC0</th>\n",
              "      <th>SM1_Dz(Z)</th>\n",
              "      <th>GATS1i</th>\n",
              "      <th>NdsCH</th>\n",
              "      <th>NdssC</th>\n",
              "      <th>MLOGP</th>\n",
              "      <th>LC50 [-LOG(mol/L)]</th>\n",
              "    </tr>\n",
              "  </thead>\n",
              "  <tbody>\n",
              "    <tr>\n",
              "      <th>0</th>\n",
              "      <td>0.478873</td>\n",
              "      <td>0.468288</td>\n",
              "      <td>0.970369</td>\n",
              "      <td>-0.378635</td>\n",
              "      <td>0.597484</td>\n",
              "      <td>-0.458175</td>\n",
              "      <td>-0.202372</td>\n",
              "    </tr>\n",
              "    <tr>\n",
              "      <th>1</th>\n",
              "      <td>-0.938408</td>\n",
              "      <td>-0.113184</td>\n",
              "      <td>-1.092634</td>\n",
              "      <td>-0.378635</td>\n",
              "      <td>-0.564220</td>\n",
              "      <td>-0.531479</td>\n",
              "      <td>-0.652576</td>\n",
              "    </tr>\n",
              "    <tr>\n",
              "      <th>2</th>\n",
              "      <td>-1.023101</td>\n",
              "      <td>0.022259</td>\n",
              "      <td>-1.173835</td>\n",
              "      <td>-0.378635</td>\n",
              "      <td>-0.564220</td>\n",
              "      <td>-0.531479</td>\n",
              "      <td>-0.366645</td>\n",
              "    </tr>\n",
              "    <tr>\n",
              "      <th>3</th>\n",
              "      <td>0.170538</td>\n",
              "      <td>-0.694657</td>\n",
              "      <td>0.452715</td>\n",
              "      <td>1.274253</td>\n",
              "      <td>-0.564220</td>\n",
              "      <td>-0.211035</td>\n",
              "      <td>-0.381079</td>\n",
              "    </tr>\n",
              "    <tr>\n",
              "      <th>4</th>\n",
              "      <td>-1.064124</td>\n",
              "      <td>0.463618</td>\n",
              "      <td>-1.100247</td>\n",
              "      <td>-0.378635</td>\n",
              "      <td>-0.564220</td>\n",
              "      <td>-0.155883</td>\n",
              "      <td>0.911109</td>\n",
              "    </tr>\n",
              "    <tr>\n",
              "      <th>...</th>\n",
              "      <td>...</td>\n",
              "      <td>...</td>\n",
              "      <td>...</td>\n",
              "      <td>...</td>\n",
              "      <td>...</td>\n",
              "      <td>...</td>\n",
              "      <td>...</td>\n",
              "    </tr>\n",
              "    <tr>\n",
              "      <th>903</th>\n",
              "      <td>-0.128533</td>\n",
              "      <td>0.232430</td>\n",
              "      <td>2.366006</td>\n",
              "      <td>-0.378635</td>\n",
              "      <td>1.759188</td>\n",
              "      <td>-0.958736</td>\n",
              "      <td>-0.656700</td>\n",
              "    </tr>\n",
              "    <tr>\n",
              "      <th>904</th>\n",
              "      <td>0.997617</td>\n",
              "      <td>0.568703</td>\n",
              "      <td>-1.082484</td>\n",
              "      <td>2.927141</td>\n",
              "      <td>2.920892</td>\n",
              "      <td>1.308103</td>\n",
              "      <td>-0.016792</td>\n",
              "    </tr>\n",
              "    <tr>\n",
              "      <th>905</th>\n",
              "      <td>1.144506</td>\n",
              "      <td>0.671454</td>\n",
              "      <td>-1.054572</td>\n",
              "      <td>-0.378635</td>\n",
              "      <td>6.406004</td>\n",
              "      <td>0.564591</td>\n",
              "      <td>0.517954</td>\n",
              "    </tr>\n",
              "    <tr>\n",
              "      <th>906</th>\n",
              "      <td>-0.088833</td>\n",
              "      <td>1.785359</td>\n",
              "      <td>-0.549605</td>\n",
              "      <td>-0.378635</td>\n",
              "      <td>0.597484</td>\n",
              "      <td>-0.840053</td>\n",
              "      <td>0.860934</td>\n",
              "    </tr>\n",
              "    <tr>\n",
              "      <th>907</th>\n",
              "      <td>1.533564</td>\n",
              "      <td>0.942340</td>\n",
              "      <td>-0.280628</td>\n",
              "      <td>1.274253</td>\n",
              "      <td>2.920892</td>\n",
              "      <td>1.846363</td>\n",
              "      <td>2.843205</td>\n",
              "    </tr>\n",
              "  </tbody>\n",
              "</table>\n",
              "<p>908 rows × 7 columns</p>\n",
              "</div>\n",
              "      <button class=\"colab-df-convert\" onclick=\"convertToInteractive('df-41c8fbbd-2814-4207-9442-86cb59aa0089')\"\n",
              "              title=\"Convert this dataframe to an interactive table.\"\n",
              "              style=\"display:none;\">\n",
              "        \n",
              "  <svg xmlns=\"http://www.w3.org/2000/svg\" height=\"24px\"viewBox=\"0 0 24 24\"\n",
              "       width=\"24px\">\n",
              "    <path d=\"M0 0h24v24H0V0z\" fill=\"none\"/>\n",
              "    <path d=\"M18.56 5.44l.94 2.06.94-2.06 2.06-.94-2.06-.94-.94-2.06-.94 2.06-2.06.94zm-11 1L8.5 8.5l.94-2.06 2.06-.94-2.06-.94L8.5 2.5l-.94 2.06-2.06.94zm10 10l.94 2.06.94-2.06 2.06-.94-2.06-.94-.94-2.06-.94 2.06-2.06.94z\"/><path d=\"M17.41 7.96l-1.37-1.37c-.4-.4-.92-.59-1.43-.59-.52 0-1.04.2-1.43.59L10.3 9.45l-7.72 7.72c-.78.78-.78 2.05 0 2.83L4 21.41c.39.39.9.59 1.41.59.51 0 1.02-.2 1.41-.59l7.78-7.78 2.81-2.81c.8-.78.8-2.07 0-2.86zM5.41 20L4 18.59l7.72-7.72 1.47 1.35L5.41 20z\"/>\n",
              "  </svg>\n",
              "      </button>\n",
              "      \n",
              "  <style>\n",
              "    .colab-df-container {\n",
              "      display:flex;\n",
              "      flex-wrap:wrap;\n",
              "      gap: 12px;\n",
              "    }\n",
              "\n",
              "    .colab-df-convert {\n",
              "      background-color: #E8F0FE;\n",
              "      border: none;\n",
              "      border-radius: 50%;\n",
              "      cursor: pointer;\n",
              "      display: none;\n",
              "      fill: #1967D2;\n",
              "      height: 32px;\n",
              "      padding: 0 0 0 0;\n",
              "      width: 32px;\n",
              "    }\n",
              "\n",
              "    .colab-df-convert:hover {\n",
              "      background-color: #E2EBFA;\n",
              "      box-shadow: 0px 1px 2px rgba(60, 64, 67, 0.3), 0px 1px 3px 1px rgba(60, 64, 67, 0.15);\n",
              "      fill: #174EA6;\n",
              "    }\n",
              "\n",
              "    [theme=dark] .colab-df-convert {\n",
              "      background-color: #3B4455;\n",
              "      fill: #D2E3FC;\n",
              "    }\n",
              "\n",
              "    [theme=dark] .colab-df-convert:hover {\n",
              "      background-color: #434B5C;\n",
              "      box-shadow: 0px 1px 3px 1px rgba(0, 0, 0, 0.15);\n",
              "      filter: drop-shadow(0px 1px 2px rgba(0, 0, 0, 0.3));\n",
              "      fill: #FFFFFF;\n",
              "    }\n",
              "  </style>\n",
              "\n",
              "      <script>\n",
              "        const buttonEl =\n",
              "          document.querySelector('#df-41c8fbbd-2814-4207-9442-86cb59aa0089 button.colab-df-convert');\n",
              "        buttonEl.style.display =\n",
              "          google.colab.kernel.accessAllowed ? 'block' : 'none';\n",
              "\n",
              "        async function convertToInteractive(key) {\n",
              "          const element = document.querySelector('#df-41c8fbbd-2814-4207-9442-86cb59aa0089');\n",
              "          const dataTable =\n",
              "            await google.colab.kernel.invokeFunction('convertToInteractive',\n",
              "                                                     [key], {});\n",
              "          if (!dataTable) return;\n",
              "\n",
              "          const docLinkHtml = 'Like what you see? Visit the ' +\n",
              "            '<a target=\"_blank\" href=https://colab.research.google.com/notebooks/data_table.ipynb>data table notebook</a>'\n",
              "            + ' to learn more about interactive tables.';\n",
              "          element.innerHTML = '';\n",
              "          dataTable['output_type'] = 'display_data';\n",
              "          await google.colab.output.renderOutput(dataTable, element);\n",
              "          const docLink = document.createElement('div');\n",
              "          docLink.innerHTML = docLinkHtml;\n",
              "          element.appendChild(docLink);\n",
              "        }\n",
              "      </script>\n",
              "    </div>\n",
              "  </div>\n",
              "  "
            ]
          },
          "metadata": {},
          "execution_count": 32
        }
      ]
    },
    {
      "cell_type": "code",
      "source": [
        "X = df.drop(['LC50 [-LOG(mol/L)]'], axis=1)"
      ],
      "metadata": {
        "id": "q3zoBDyCjW72"
      },
      "execution_count": 33,
      "outputs": []
    },
    {
      "cell_type": "code",
      "source": [
        "\n",
        "X.head()"
      ],
      "metadata": {
        "id": "sqZmxtuzjgOt",
        "colab": {
          "base_uri": "https://localhost:8080/",
          "height": 206
        },
        "outputId": "450805e1-25b7-4cf1-be9d-0d93efce007e"
      },
      "execution_count": 34,
      "outputs": [
        {
          "output_type": "execute_result",
          "data": {
            "text/plain": [
              "       CIC0  SM1_Dz(Z)    GATS1i     NdsCH     NdssC     MLOGP\n",
              "0  0.478873   0.468288  0.970369 -0.378635  0.597484 -0.458175\n",
              "1 -0.938408  -0.113184 -1.092634 -0.378635 -0.564220 -0.531479\n",
              "2 -1.023101   0.022259 -1.173835 -0.378635 -0.564220 -0.531479\n",
              "3  0.170538  -0.694657  0.452715  1.274253 -0.564220 -0.211035\n",
              "4 -1.064124   0.463618 -1.100247 -0.378635 -0.564220 -0.155883"
            ],
            "text/html": [
              "\n",
              "  <div id=\"df-76d61a9c-16f0-4d03-8435-37cafdb2b307\">\n",
              "    <div class=\"colab-df-container\">\n",
              "      <div>\n",
              "<style scoped>\n",
              "    .dataframe tbody tr th:only-of-type {\n",
              "        vertical-align: middle;\n",
              "    }\n",
              "\n",
              "    .dataframe tbody tr th {\n",
              "        vertical-align: top;\n",
              "    }\n",
              "\n",
              "    .dataframe thead th {\n",
              "        text-align: right;\n",
              "    }\n",
              "</style>\n",
              "<table border=\"1\" class=\"dataframe\">\n",
              "  <thead>\n",
              "    <tr style=\"text-align: right;\">\n",
              "      <th></th>\n",
              "      <th>CIC0</th>\n",
              "      <th>SM1_Dz(Z)</th>\n",
              "      <th>GATS1i</th>\n",
              "      <th>NdsCH</th>\n",
              "      <th>NdssC</th>\n",
              "      <th>MLOGP</th>\n",
              "    </tr>\n",
              "  </thead>\n",
              "  <tbody>\n",
              "    <tr>\n",
              "      <th>0</th>\n",
              "      <td>0.478873</td>\n",
              "      <td>0.468288</td>\n",
              "      <td>0.970369</td>\n",
              "      <td>-0.378635</td>\n",
              "      <td>0.597484</td>\n",
              "      <td>-0.458175</td>\n",
              "    </tr>\n",
              "    <tr>\n",
              "      <th>1</th>\n",
              "      <td>-0.938408</td>\n",
              "      <td>-0.113184</td>\n",
              "      <td>-1.092634</td>\n",
              "      <td>-0.378635</td>\n",
              "      <td>-0.564220</td>\n",
              "      <td>-0.531479</td>\n",
              "    </tr>\n",
              "    <tr>\n",
              "      <th>2</th>\n",
              "      <td>-1.023101</td>\n",
              "      <td>0.022259</td>\n",
              "      <td>-1.173835</td>\n",
              "      <td>-0.378635</td>\n",
              "      <td>-0.564220</td>\n",
              "      <td>-0.531479</td>\n",
              "    </tr>\n",
              "    <tr>\n",
              "      <th>3</th>\n",
              "      <td>0.170538</td>\n",
              "      <td>-0.694657</td>\n",
              "      <td>0.452715</td>\n",
              "      <td>1.274253</td>\n",
              "      <td>-0.564220</td>\n",
              "      <td>-0.211035</td>\n",
              "    </tr>\n",
              "    <tr>\n",
              "      <th>4</th>\n",
              "      <td>-1.064124</td>\n",
              "      <td>0.463618</td>\n",
              "      <td>-1.100247</td>\n",
              "      <td>-0.378635</td>\n",
              "      <td>-0.564220</td>\n",
              "      <td>-0.155883</td>\n",
              "    </tr>\n",
              "  </tbody>\n",
              "</table>\n",
              "</div>\n",
              "      <button class=\"colab-df-convert\" onclick=\"convertToInteractive('df-76d61a9c-16f0-4d03-8435-37cafdb2b307')\"\n",
              "              title=\"Convert this dataframe to an interactive table.\"\n",
              "              style=\"display:none;\">\n",
              "        \n",
              "  <svg xmlns=\"http://www.w3.org/2000/svg\" height=\"24px\"viewBox=\"0 0 24 24\"\n",
              "       width=\"24px\">\n",
              "    <path d=\"M0 0h24v24H0V0z\" fill=\"none\"/>\n",
              "    <path d=\"M18.56 5.44l.94 2.06.94-2.06 2.06-.94-2.06-.94-.94-2.06-.94 2.06-2.06.94zm-11 1L8.5 8.5l.94-2.06 2.06-.94-2.06-.94L8.5 2.5l-.94 2.06-2.06.94zm10 10l.94 2.06.94-2.06 2.06-.94-2.06-.94-.94-2.06-.94 2.06-2.06.94z\"/><path d=\"M17.41 7.96l-1.37-1.37c-.4-.4-.92-.59-1.43-.59-.52 0-1.04.2-1.43.59L10.3 9.45l-7.72 7.72c-.78.78-.78 2.05 0 2.83L4 21.41c.39.39.9.59 1.41.59.51 0 1.02-.2 1.41-.59l7.78-7.78 2.81-2.81c.8-.78.8-2.07 0-2.86zM5.41 20L4 18.59l7.72-7.72 1.47 1.35L5.41 20z\"/>\n",
              "  </svg>\n",
              "      </button>\n",
              "      \n",
              "  <style>\n",
              "    .colab-df-container {\n",
              "      display:flex;\n",
              "      flex-wrap:wrap;\n",
              "      gap: 12px;\n",
              "    }\n",
              "\n",
              "    .colab-df-convert {\n",
              "      background-color: #E8F0FE;\n",
              "      border: none;\n",
              "      border-radius: 50%;\n",
              "      cursor: pointer;\n",
              "      display: none;\n",
              "      fill: #1967D2;\n",
              "      height: 32px;\n",
              "      padding: 0 0 0 0;\n",
              "      width: 32px;\n",
              "    }\n",
              "\n",
              "    .colab-df-convert:hover {\n",
              "      background-color: #E2EBFA;\n",
              "      box-shadow: 0px 1px 2px rgba(60, 64, 67, 0.3), 0px 1px 3px 1px rgba(60, 64, 67, 0.15);\n",
              "      fill: #174EA6;\n",
              "    }\n",
              "\n",
              "    [theme=dark] .colab-df-convert {\n",
              "      background-color: #3B4455;\n",
              "      fill: #D2E3FC;\n",
              "    }\n",
              "\n",
              "    [theme=dark] .colab-df-convert:hover {\n",
              "      background-color: #434B5C;\n",
              "      box-shadow: 0px 1px 3px 1px rgba(0, 0, 0, 0.15);\n",
              "      filter: drop-shadow(0px 1px 2px rgba(0, 0, 0, 0.3));\n",
              "      fill: #FFFFFF;\n",
              "    }\n",
              "  </style>\n",
              "\n",
              "      <script>\n",
              "        const buttonEl =\n",
              "          document.querySelector('#df-76d61a9c-16f0-4d03-8435-37cafdb2b307 button.colab-df-convert');\n",
              "        buttonEl.style.display =\n",
              "          google.colab.kernel.accessAllowed ? 'block' : 'none';\n",
              "\n",
              "        async function convertToInteractive(key) {\n",
              "          const element = document.querySelector('#df-76d61a9c-16f0-4d03-8435-37cafdb2b307');\n",
              "          const dataTable =\n",
              "            await google.colab.kernel.invokeFunction('convertToInteractive',\n",
              "                                                     [key], {});\n",
              "          if (!dataTable) return;\n",
              "\n",
              "          const docLinkHtml = 'Like what you see? Visit the ' +\n",
              "            '<a target=\"_blank\" href=https://colab.research.google.com/notebooks/data_table.ipynb>data table notebook</a>'\n",
              "            + ' to learn more about interactive tables.';\n",
              "          element.innerHTML = '';\n",
              "          dataTable['output_type'] = 'display_data';\n",
              "          await google.colab.output.renderOutput(dataTable, element);\n",
              "          const docLink = document.createElement('div');\n",
              "          docLink.innerHTML = docLinkHtml;\n",
              "          element.appendChild(docLink);\n",
              "        }\n",
              "      </script>\n",
              "    </div>\n",
              "  </div>\n",
              "  "
            ]
          },
          "metadata": {},
          "execution_count": 34
        }
      ]
    },
    {
      "cell_type": "code",
      "source": [
        "y = df['LC50 [-LOG(mol/L)]']\n",
        "y.head()"
      ],
      "metadata": {
        "colab": {
          "base_uri": "https://localhost:8080/"
        },
        "id": "vcJzezCtl1rQ",
        "outputId": "aa2c7a3b-6d81-41e4-c3c2-82af9747d3f9"
      },
      "execution_count": 35,
      "outputs": [
        {
          "output_type": "execute_result",
          "data": {
            "text/plain": [
              "0   -0.202372\n",
              "1   -0.652576\n",
              "2   -0.366645\n",
              "3   -0.381079\n",
              "4    0.911109\n",
              "Name: LC50 [-LOG(mol/L)], dtype: float64"
            ]
          },
          "metadata": {},
          "execution_count": 35
        }
      ]
    },
    {
      "cell_type": "code",
      "source": [
        "model = LinearRegression( fit_intercept= False,n_jobs=-1, positive= False) \n",
        "X_train, X_test, y_train, y_test = train_test_split(X,y,test_size=0.5,random_state=0,shuffle=True)"
      ],
      "metadata": {
        "id": "9A4tuqHNl6hx"
      },
      "execution_count": 36,
      "outputs": []
    },
    {
      "cell_type": "code",
      "source": [
        "\n",
        "params = {\n",
        "   \"fit_intercept\":[True,False],\n",
        "    \"positive\":[True,False]\n",
        "}"
      ],
      "metadata": {
        "id": "lvOthmuGqlUV"
      },
      "execution_count": 37,
      "outputs": []
    },
    {
      "cell_type": "code",
      "source": [
        "model.fit(X_train, y_train)"
      ],
      "metadata": {
        "colab": {
          "base_uri": "https://localhost:8080/"
        },
        "id": "Q77jiGtBmB9J",
        "outputId": "52e5b925-b978-411f-a372-3a1321d21c41"
      },
      "execution_count": 38,
      "outputs": [
        {
          "output_type": "execute_result",
          "data": {
            "text/plain": [
              "LinearRegression(fit_intercept=False, n_jobs=-1)"
            ]
          },
          "metadata": {},
          "execution_count": 38
        }
      ]
    },
    {
      "cell_type": "code",
      "source": [
        "y_pred = model.predict(X_test)\n",
        "print(y_pred)"
      ],
      "metadata": {
        "colab": {
          "base_uri": "https://localhost:8080/"
        },
        "id": "3cT4aDPCmEa0",
        "outputId": "a6bb1fcb-327f-4147-f965-ce88738f80a7"
      },
      "execution_count": 39,
      "outputs": [
        {
          "output_type": "stream",
          "name": "stdout",
          "text": [
            "[ 5.77194000e-01  5.35852250e-01  7.89730739e-03  1.06291192e-01\n",
            " -8.41384295e-01 -1.77790557e+00  1.60129595e-01  1.36959165e-01\n",
            " -5.28189937e-01 -6.19365954e-01  1.39099159e+00  4.22006431e-01\n",
            "  1.00747108e+00  7.50585126e-01  1.65523243e-01 -4.35684339e-01\n",
            "  2.14834348e+00 -6.92749348e-01  9.39563792e-01  7.47086804e-01\n",
            " -1.00067986e+00  2.87122537e-02 -5.48346217e-01  8.30706125e-03\n",
            " -4.81685551e-01  5.70453049e-01  6.77143969e-01  1.82051749e+00\n",
            " -1.46856145e+00 -2.46614072e-01 -2.12166330e-01  1.24798605e-01\n",
            "  6.74431006e-01  6.97270425e-01  5.32451730e-01 -6.51780559e-01\n",
            " -1.48857209e-01  7.90626832e-01  2.66612551e-01 -1.18744811e+00\n",
            "  1.15429514e+00  2.64797356e-01 -3.25240161e-01 -6.99456353e-01\n",
            " -1.68913692e+00 -1.13310821e-01  6.96232098e-01 -1.70998288e+00\n",
            "  1.50415895e-01 -4.92297756e-01  9.18665040e-01 -1.33439019e-01\n",
            " -1.13996527e+00  8.17192432e-02  9.70169159e-01 -9.62415760e-02\n",
            " -2.13648319e-01 -4.18877381e-01 -4.93150914e-01 -5.72490258e-01\n",
            " -2.60490357e-01 -8.10348113e-01  2.04832787e-02 -9.92565160e-01\n",
            " -5.07955733e-01 -4.32414819e-02 -1.33973299e-01 -4.43928552e-01\n",
            " -4.35777115e-01  1.91546895e-01 -5.84701526e-01 -4.34634563e-01\n",
            "  5.98834072e-01 -1.00594602e+00  4.25644702e-01  5.11256828e-01\n",
            "  1.02173325e-01 -9.25094108e-01  3.82827277e-01  8.86644710e-02\n",
            "  1.18591223e+00  1.84306838e+00  4.13993509e-01 -3.10003765e-01\n",
            "  9.20606723e-01  4.68541245e-01 -8.13009563e-01  3.43382430e-01\n",
            " -8.54150182e-02  7.11630376e-01 -4.30747155e-01 -2.32114416e-02\n",
            "  7.72011419e-01 -1.76893046e+00  4.94455959e-01  2.41826328e-01\n",
            "  1.20653517e-01 -4.66834707e-01 -4.62428906e-01 -4.33555794e-01\n",
            "  7.99069262e-01  6.22479148e-01  6.38567140e-01 -8.69340690e-01\n",
            "  2.91773069e-02 -3.56546823e-02 -1.10758451e+00  8.65303233e-01\n",
            " -2.77455200e-02 -4.64381853e-01 -3.96694348e-01  1.67820282e+00\n",
            " -5.87528140e-01 -2.43352990e-02 -8.63494415e-02  3.82827277e-01\n",
            " -2.86798034e-01 -1.42412858e-02  1.00322772e+00  1.51236792e+00\n",
            " -1.47820952e-01  1.05012894e-01 -8.66994592e-01  6.96793451e-02\n",
            " -3.67505568e-01 -1.18281092e-01  8.13601288e-01 -6.17572705e-01\n",
            "  7.62038366e-01 -7.10057023e-01  8.33151993e-01  1.18081780e+00\n",
            "  1.12874369e+00  8.06120278e-01  9.72682899e-01  3.69584525e-01\n",
            "  2.30585079e-01 -1.08865018e+00 -1.09429925e-01 -2.60857954e-01\n",
            " -2.13836623e-01 -9.04359646e-01 -1.18216232e+00 -4.15594549e-01\n",
            " -3.41652837e-01 -1.53217946e-01 -4.39599516e-01 -2.35186669e-01\n",
            "  1.40812638e+00  3.43466838e-01  5.45818012e-01 -7.14977780e-01\n",
            "  1.74693706e+00  1.32767579e-02  2.16045048e-01 -8.11706932e-01\n",
            " -3.76176080e-01 -3.41280326e-01 -5.29657080e-01  1.17517398e+00\n",
            " -4.28714641e-01 -5.68047100e-01  3.00922355e-01  5.67854876e-01\n",
            " -7.60918922e-01 -2.32047849e-01  7.33576908e-01 -1.09697054e-01\n",
            "  1.61063930e-01  5.18960073e-01 -1.03356477e+00 -1.88195336e-01\n",
            " -1.30710133e+00  6.00356378e-01 -3.05444940e-01 -5.28189937e-01\n",
            "  1.21186118e+00  1.60116965e-01 -8.42679811e-01  1.14094806e+00\n",
            " -2.75319283e-01  8.50122924e-02  2.83722649e+00 -9.85242367e-01\n",
            "  6.38567140e-01  8.05538990e-02 -4.63973918e-01 -1.22865470e+00\n",
            "  6.74254274e-01 -1.67251546e+00  1.79923907e+00 -4.31648555e-01\n",
            " -2.66570052e-01 -7.70598666e-03 -3.24896629e-01 -1.14158840e+00\n",
            " -2.23185429e-01 -1.28263239e-01 -5.05715434e-01 -1.17447961e-01\n",
            " -9.33052672e-01  1.84568003e+00 -1.18089403e+00 -3.10003765e-01\n",
            "  8.98493467e-01 -3.74022948e-01  9.48208180e-02 -6.26475287e-01\n",
            "  1.50415895e-01 -4.43928552e-01 -1.08852553e+00  2.69698691e-01\n",
            "  1.69615325e-01 -1.21822161e-01  5.35802782e-01 -5.14169908e-01\n",
            " -5.71426718e-01 -7.90895159e-01  1.41462880e+00  5.70864268e-02\n",
            "  2.63571399e-01 -2.32047849e-01 -5.61767099e-01  7.47086804e-01\n",
            " -9.58236770e-02 -4.06211524e-01 -3.72089870e-01 -9.04078679e-01\n",
            "  6.92487210e-01  6.96232098e-01  2.84436347e-01  5.39022680e-02\n",
            " -1.20580581e+00 -1.19745935e+00  5.09232619e-01 -2.66570052e-01\n",
            " -3.05444940e-01 -1.77430219e-01  4.37521369e-01  9.48208180e-02\n",
            "  4.85228227e-01 -8.32439973e-02 -2.77187438e-01 -9.56158164e-01\n",
            " -8.95477225e-01 -1.71407638e+00 -4.27098481e-02  2.89416943e-01\n",
            "  1.38797346e+00  3.96294320e-02  8.64663702e-01  1.05247092e+00\n",
            " -5.38579746e-01 -7.15600324e-01 -1.23715523e+00  3.86917899e-01\n",
            " -3.43192159e-01 -1.50476757e-01  1.81876597e-01 -3.74022948e-01\n",
            " -1.33973299e-01  4.30096450e-01 -7.71798716e-01 -8.65877447e-01\n",
            "  9.39563792e-01 -9.64879358e-01 -8.11706932e-01 -1.14620373e+00\n",
            "  4.40564411e-01  3.13948699e-01  3.30560450e-01  3.52757621e-01\n",
            " -2.35431105e-01 -1.06822635e+00  7.77485454e-01  5.93642750e-03\n",
            "  2.10924961e-01 -3.97821336e-01  6.74254274e-01 -1.08815948e+00\n",
            " -4.58249604e-01 -6.56366803e-01  7.11630376e-01 -9.70719654e-02\n",
            " -1.31659921e+00  1.73843928e+00  3.13948699e-01 -8.92706983e-01\n",
            " -1.80333213e-01  6.61114259e-01  6.48275701e-01  4.00142037e-01\n",
            " -8.79691959e-02 -4.91762703e-01  7.47767245e-01  3.73322351e-01\n",
            " -8.65855171e-01 -1.05436279e-01  1.19129689e+00  1.64314933e+00\n",
            " -2.12983464e-01 -6.76296420e-01 -1.41349842e+00 -9.60990743e-01\n",
            " -1.50273191e-01  7.62038366e-01 -6.02050592e-01 -8.04376333e-02\n",
            "  8.81831161e-02  1.22508954e+00 -8.48610054e-01  4.20281575e-01\n",
            " -1.00594602e+00 -1.16978240e+00  5.30815783e-01 -1.05755909e+00\n",
            " -8.66994592e-01 -1.27960509e+00 -5.63659603e-01  3.16438219e-01\n",
            "  2.65719764e-01  7.72642545e-01  9.38320586e-01 -1.01872650e-01\n",
            "  1.13390362e+00 -1.77430219e-01  5.26393509e-01  2.14786778e-03\n",
            "  2.38991298e-01  4.30096450e-01 -6.73795886e-02 -3.91015703e-01\n",
            " -9.80855740e-02 -6.26436628e-01  1.96762186e+00 -1.48857209e-01\n",
            " -1.47894896e+00  6.22479148e-01 -5.44390262e-01 -2.32047849e-01\n",
            " -5.24974031e-01  9.48208180e-02 -4.34250310e-01 -1.09183069e+00\n",
            "  4.36240632e-01 -3.73948910e-01 -2.63777674e-01  4.51599090e-01\n",
            " -1.12044019e+00  5.05326541e-01 -1.77430219e-01  8.60414491e-01\n",
            "  1.26692535e+00  9.00631660e-02 -1.73093810e-01  6.65769015e-01\n",
            "  4.75055659e-01 -1.35563959e-02 -4.91762703e-01 -6.46855023e-01\n",
            "  2.18822494e-01 -3.76176080e-01 -9.95131359e-02 -4.37277303e-01\n",
            "  9.57700035e-01 -1.48457476e-01 -3.91245925e-01 -1.08094108e+00\n",
            " -4.32052827e-01  3.31467252e-01 -2.89450275e-01 -6.15385470e-02\n",
            "  5.09620478e-01  7.35763378e-01  1.83650239e-01  1.73577252e+00\n",
            "  1.59790757e+00  5.31699127e-01  1.24667484e+00 -2.67480906e-02\n",
            " -8.48312788e-02  8.81099917e-02  4.39658856e-03 -2.90415276e-01\n",
            " -1.11726979e+00  4.17419825e-01 -5.44390262e-01 -1.47248294e+00\n",
            " -8.26914902e-02 -1.08741024e+00  1.64178874e+00  4.64778589e-01\n",
            " -2.32047849e-01 -2.08505255e-01 -1.43980166e+00 -1.41148427e+00\n",
            " -4.64719376e-01 -6.91726353e-01  5.92978670e-01 -3.91015703e-01\n",
            "  6.03490773e-02 -6.36802930e-01  5.74800586e-01 -6.76296420e-01\n",
            " -1.87139062e-02 -6.76296420e-01  7.75185080e-01  2.83013233e-01\n",
            " -1.32816053e-01 -3.46653465e-01  4.15983353e-01  1.82936996e-01\n",
            "  1.60129595e-01 -3.07420993e-01  7.58617000e-02  1.15211035e-01\n",
            " -2.48473534e-01  3.61018231e-01  5.64420592e-01  3.97958394e-01\n",
            " -3.94467795e-01  1.69283239e+00  2.96603488e-01  8.02501752e-02\n",
            "  8.39268834e-01  3.06362856e-01  5.06713626e-01  6.76480263e-01\n",
            " -3.11074966e-01  2.19716444e-01 -2.33596049e-01  1.81035677e+00\n",
            "  1.58888200e+00  1.45400817e-01  1.41630782e+00 -1.35263478e-01\n",
            " -1.77430219e-01  1.29635031e+00  3.99003937e-01 -3.10003765e-01\n",
            " -6.38859293e-01 -4.43928552e-01  6.00867401e-01 -6.72167859e-01\n",
            "  2.04227371e+00 -9.95657290e-01 -8.12275416e-01  5.92322381e-01\n",
            "  1.22201340e+00 -7.98863654e-01 -1.25796106e-01 -5.18454454e-01\n",
            "  1.76544111e-01 -1.31541479e+00]\n"
          ]
        }
      ]
    },
    {
      "cell_type": "code",
      "source": [
        "\n",
        "from sklearn.metrics import r2_score\n",
        "r2_score(y_test,y_pred)"
      ],
      "metadata": {
        "colab": {
          "base_uri": "https://localhost:8080/"
        },
        "id": "ymhMlKQfmZVD",
        "outputId": "0a8c42ef-a600-42a2-dcf1-6283fc1e19e0"
      },
      "execution_count": 40,
      "outputs": [
        {
          "output_type": "execute_result",
          "data": {
            "text/plain": [
              "0.568586708912305"
            ]
          },
          "metadata": {},
          "execution_count": 40
        }
      ]
    },
    {
      "cell_type": "code",
      "source": [
        "from sklearn.model_selection import GridSearchCV\n",
        "grid = GridSearchCV(estimator=model,param_grid=params,scoring='r2')"
      ],
      "metadata": {
        "id": "UCoF5XFXnM9Q"
      },
      "execution_count": 41,
      "outputs": []
    },
    {
      "cell_type": "code",
      "source": [
        " model=grid.fit(X_train,y_train)\n"
      ],
      "metadata": {
        "id": "HPCRMkfILq64"
      },
      "execution_count": 42,
      "outputs": []
    },
    {
      "cell_type": "code",
      "source": [
        "model.best_params_"
      ],
      "metadata": {
        "id": "zFmHREFWQzFZ",
        "colab": {
          "base_uri": "https://localhost:8080/"
        },
        "outputId": "1b01da67-3631-44f9-fe60-e761daa4bfdc"
      },
      "execution_count": 43,
      "outputs": [
        {
          "output_type": "execute_result",
          "data": {
            "text/plain": [
              "{'fit_intercept': False, 'positive': False}"
            ]
          },
          "metadata": {},
          "execution_count": 43
        }
      ]
    },
    {
      "cell_type": "code",
      "source": [
        "\n",
        "\n",
        "model.best_score_\n",
        "\n"
      ],
      "metadata": {
        "colab": {
          "base_uri": "https://localhost:8080/"
        },
        "id": "zgzNh2Div17E",
        "outputId": "f9d90ddb-c767-4531-eda3-09ef91ea31f3"
      },
      "execution_count": 44,
      "outputs": [
        {
          "output_type": "execute_result",
          "data": {
            "text/plain": [
              "0.5516485005860436"
            ]
          },
          "metadata": {},
          "execution_count": 44
        }
      ]
    },
    {
      "cell_type": "code",
      "source": [
        "\n",
        "from sklearn import linear_model\n",
        "lasso_reg = linear_model.Lasso(alpha=500,max_iter=500,tol=0.925)\n",
        "lasso_reg.fit(X_train,y_train)\n",
        "\n",
        "\n"
      ],
      "metadata": {
        "colab": {
          "base_uri": "https://localhost:8080/"
        },
        "id": "Ngr632t41SpE",
        "outputId": "e9726860-9456-494d-aba4-cd97d17b44d6"
      },
      "execution_count": 45,
      "outputs": [
        {
          "output_type": "execute_result",
          "data": {
            "text/plain": [
              "Lasso(alpha=500, max_iter=500, tol=0.925)"
            ]
          },
          "metadata": {},
          "execution_count": 45
        }
      ]
    },
    {
      "cell_type": "code",
      "source": [
        "lasso_reg.score(X_test,y_test)"
      ],
      "metadata": {
        "colab": {
          "base_uri": "https://localhost:8080/"
        },
        "id": "ZMGSrwr73TLS",
        "outputId": "589bcba8-d353-4c8b-dc01-5eaf40292349"
      },
      "execution_count": 46,
      "outputs": [
        {
          "output_type": "execute_result",
          "data": {
            "text/plain": [
              "-0.011208952222098612"
            ]
          },
          "metadata": {},
          "execution_count": 46
        }
      ]
    },
    {
      "cell_type": "code",
      "source": [
        "from sklearn.tree import DecisionTreeRegressor\n",
        "regressor = DecisionTreeRegressor(random_state = 1, max_depth=40)\n",
        "regressor.fit(X_train, y_train)"
      ],
      "metadata": {
        "id": "prtDxf5S6E83",
        "colab": {
          "base_uri": "https://localhost:8080/"
        },
        "outputId": "5eb1476e-74d5-49d9-93c0-70ed4bc8c44a"
      },
      "execution_count": 47,
      "outputs": [
        {
          "output_type": "execute_result",
          "data": {
            "text/plain": [
              "DecisionTreeRegressor(max_depth=40, random_state=1)"
            ]
          },
          "metadata": {},
          "execution_count": 47
        }
      ]
    },
    {
      "cell_type": "code",
      "source": [
        "regressor.score(X_train, y_train)"
      ],
      "metadata": {
        "colab": {
          "base_uri": "https://localhost:8080/"
        },
        "id": "5YaNC8m3qPoy",
        "outputId": "bdcc88c7-2b71-4001-a6dc-be17387d7fd3"
      },
      "execution_count": 48,
      "outputs": [
        {
          "output_type": "execute_result",
          "data": {
            "text/plain": [
              "0.9907985298644324"
            ]
          },
          "metadata": {},
          "execution_count": 48
        }
      ]
    },
    {
      "cell_type": "code",
      "source": [
        "predictions=regressor.predict(X_test)"
      ],
      "metadata": {
        "id": "cVCqny-hqfGB"
      },
      "execution_count": 49,
      "outputs": []
    },
    {
      "cell_type": "code",
      "source": [
        "r2_score(y_test,predictions)"
      ],
      "metadata": {
        "colab": {
          "base_uri": "https://localhost:8080/"
        },
        "id": "2hC4eOX0sg6T",
        "outputId": "b317fc78-8285-4a0d-c849-be3c7b2ded3e"
      },
      "execution_count": 50,
      "outputs": [
        {
          "output_type": "execute_result",
          "data": {
            "text/plain": [
              "0.2780809023468791"
            ]
          },
          "metadata": {},
          "execution_count": 50
        }
      ]
    },
    {
      "cell_type": "code",
      "source": [
        "from sklearn.ensemble import RandomForestRegressor\n",
        "regressor2 = RandomForestRegressor(n_estimators = 400, random_state = 0)\n",
        "regressor2.fit(X_train, y_train)"
      ],
      "metadata": {
        "id": "fP0J7AYOq_Lz",
        "colab": {
          "base_uri": "https://localhost:8080/"
        },
        "outputId": "36603448-0e54-46f8-ebef-20fd02280121"
      },
      "execution_count": 51,
      "outputs": [
        {
          "output_type": "execute_result",
          "data": {
            "text/plain": [
              "RandomForestRegressor(n_estimators=400, random_state=0)"
            ]
          },
          "metadata": {},
          "execution_count": 51
        }
      ]
    },
    {
      "cell_type": "code",
      "source": [
        "\n",
        "regressor2.score(X_train, y_train)"
      ],
      "metadata": {
        "colab": {
          "base_uri": "https://localhost:8080/"
        },
        "id": "FZxH2C9Av6tg",
        "outputId": "5cee8498-7a70-4e07-868b-c601686b1594"
      },
      "execution_count": 52,
      "outputs": [
        {
          "output_type": "execute_result",
          "data": {
            "text/plain": [
              "0.9380682835536306"
            ]
          },
          "metadata": {},
          "execution_count": 52
        }
      ]
    },
    {
      "cell_type": "code",
      "source": [
        "pred2=regressor2.predict(X_test)"
      ],
      "metadata": {
        "id": "R2SJtl_FxcEa"
      },
      "execution_count": 53,
      "outputs": []
    },
    {
      "cell_type": "code",
      "source": [
        "y_test.head"
      ],
      "metadata": {
        "colab": {
          "base_uri": "https://localhost:8080/"
        },
        "id": "QCOgja8mxk1t",
        "outputId": "a6cf0ff5-4ab2-4673-c4c5-98000cdd3f2b"
      },
      "execution_count": 54,
      "outputs": [
        {
          "output_type": "execute_result",
          "data": {
            "text/plain": [
              "<bound method NDFrame.head of 251    0.971594\n",
              "732    0.430662\n",
              "497    0.109677\n",
              "887   -0.491052\n",
              "144   -0.390702\n",
              "         ...   \n",
              "520   -0.680069\n",
              "0     -0.202372\n",
              "46    -0.033288\n",
              "171    0.086995\n",
              "392   -1.548172\n",
              "Name: LC50 [-LOG(mol/L)], Length: 454, dtype: float64>"
            ]
          },
          "metadata": {},
          "execution_count": 54
        }
      ]
    },
    {
      "cell_type": "code",
      "source": [
        "r2_score(y_test,pred2)"
      ],
      "metadata": {
        "colab": {
          "base_uri": "https://localhost:8080/"
        },
        "id": "mqux2u2iyNDO",
        "outputId": "471aaa16-43b1-45f2-8e2e-672ba17ba6bf"
      },
      "execution_count": 55,
      "outputs": [
        {
          "output_type": "execute_result",
          "data": {
            "text/plain": [
              "0.6012993338214137"
            ]
          },
          "metadata": {},
          "execution_count": 55
        }
      ]
    },
    {
      "cell_type": "code",
      "source": [
        "from sklearn.svm import SVR\n",
        "regressor = SVR(kernel = 'rbf')\n",
        "regressor.fit(X_train, y_train)"
      ],
      "metadata": {
        "colab": {
          "base_uri": "https://localhost:8080/"
        },
        "id": "FwEgrWAGKywx",
        "outputId": "f4d14763-0c89-49da-953f-78815a252265"
      },
      "execution_count": 56,
      "outputs": [
        {
          "output_type": "execute_result",
          "data": {
            "text/plain": [
              "SVR()"
            ]
          },
          "metadata": {},
          "execution_count": 56
        }
      ]
    },
    {
      "cell_type": "code",
      "source": [
        "regressor.score(X_train, y_train)"
      ],
      "metadata": {
        "colab": {
          "base_uri": "https://localhost:8080/"
        },
        "id": "ullYAm4WMQnh",
        "outputId": "0c2afcf0-d571-4f8d-b447-78550db33834"
      },
      "execution_count": 57,
      "outputs": [
        {
          "output_type": "execute_result",
          "data": {
            "text/plain": [
              "0.7288958738751936"
            ]
          },
          "metadata": {},
          "execution_count": 57
        }
      ]
    },
    {
      "cell_type": "code",
      "source": [
        "svr_trainpred=regressor.predict(X_train)"
      ],
      "metadata": {
        "id": "dCxzBDkAhjTc"
      },
      "execution_count": 58,
      "outputs": []
    },
    {
      "cell_type": "code",
      "source": [
        "r2_score(y_train,svr_trainpred)"
      ],
      "metadata": {
        "colab": {
          "base_uri": "https://localhost:8080/"
        },
        "id": "VK7A6aCEhe5X",
        "outputId": "8fb3f8bc-ec91-416e-95be-8c0d1938c6fa"
      },
      "execution_count": 59,
      "outputs": [
        {
          "output_type": "execute_result",
          "data": {
            "text/plain": [
              "0.7288958738751936"
            ]
          },
          "metadata": {},
          "execution_count": 59
        }
      ]
    },
    {
      "cell_type": "code",
      "source": [
        "svr_preds=regressor.predict(X_test)"
      ],
      "metadata": {
        "id": "8EWzGCOVMc3o"
      },
      "execution_count": 60,
      "outputs": []
    },
    {
      "cell_type": "code",
      "source": [
        "regressor.score(X_test,y_test)"
      ],
      "metadata": {
        "colab": {
          "base_uri": "https://localhost:8080/"
        },
        "id": "mCqY7O_GMlHF",
        "outputId": "f422bbaa-63a6-4618-ac0f-ab40d675e542"
      },
      "execution_count": 61,
      "outputs": [
        {
          "output_type": "execute_result",
          "data": {
            "text/plain": [
              "0.6346017592989304"
            ]
          },
          "metadata": {},
          "execution_count": 61
        }
      ]
    },
    {
      "cell_type": "code",
      "source": [
        "r2_score(y_pred,svr_preds)"
      ],
      "metadata": {
        "colab": {
          "base_uri": "https://localhost:8080/"
        },
        "id": "LbSzSjN7MqRP",
        "outputId": "a5c0ed1c-901b-468e-fb22-578ac896d830"
      },
      "execution_count": 62,
      "outputs": [
        {
          "output_type": "execute_result",
          "data": {
            "text/plain": [
              "0.8027585481887748"
            ]
          },
          "metadata": {},
          "execution_count": 62
        }
      ]
    },
    {
      "cell_type": "code",
      "source": [
        "param = {'kernel' : ('linear', 'poly', 'rbf', 'sigmoid'),'C' : [1,5,10],'degree' : [3,8],'coef0' : [0.01,10,0.5],'gamma' : ('auto','scale')}"
      ],
      "metadata": {
        "id": "VneAUJ8qgSEO"
      },
      "execution_count": 63,
      "outputs": []
    },
    {
      "cell_type": "code",
      "source": [
        "grid2 = GridSearchCV(estimator=regressor,param_grid=param,scoring='r2')"
      ],
      "metadata": {
        "id": "0UPabp-u4y06"
      },
      "execution_count": 64,
      "outputs": []
    },
    {
      "cell_type": "code",
      "source": [
        "# regressor1 = SVR(kernel = 'rbf',C=0.5,degree=40,coef0=0.5,tol=0.0001)\n",
        "#This params result is 0.81% "
      ],
      "metadata": {
        "id": "gjdWZG8LKvR6"
      },
      "execution_count": 65,
      "outputs": []
    },
    {
      "cell_type": "code",
      "source": [
        "!pip install tensorflow\n",
        "!pip install keras"
      ],
      "metadata": {
        "colab": {
          "base_uri": "https://localhost:8080/"
        },
        "id": "O5yknDnQuQHn",
        "outputId": "a0270754-5946-4c48-a8ca-2c85ea978f00"
      },
      "execution_count": 66,
      "outputs": [
        {
          "output_type": "stream",
          "name": "stdout",
          "text": [
            "Requirement already satisfied: tensorflow in /usr/local/lib/python3.7/dist-packages (2.8.0)\n",
            "Requirement already satisfied: flatbuffers>=1.12 in /usr/local/lib/python3.7/dist-packages (from tensorflow) (2.0)\n",
            "Requirement already satisfied: astunparse>=1.6.0 in /usr/local/lib/python3.7/dist-packages (from tensorflow) (1.6.3)\n",
            "Requirement already satisfied: tensorflow-io-gcs-filesystem>=0.23.1 in /usr/local/lib/python3.7/dist-packages (from tensorflow) (0.24.0)\n",
            "Requirement already satisfied: wrapt>=1.11.0 in /usr/local/lib/python3.7/dist-packages (from tensorflow) (1.13.3)\n",
            "Requirement already satisfied: setuptools in /usr/local/lib/python3.7/dist-packages (from tensorflow) (57.4.0)\n",
            "Requirement already satisfied: termcolor>=1.1.0 in /usr/local/lib/python3.7/dist-packages (from tensorflow) (1.1.0)\n",
            "Requirement already satisfied: tensorboard<2.9,>=2.8 in /usr/local/lib/python3.7/dist-packages (from tensorflow) (2.8.0)\n",
            "Requirement already satisfied: h5py>=2.9.0 in /usr/local/lib/python3.7/dist-packages (from tensorflow) (3.1.0)\n",
            "Requirement already satisfied: protobuf>=3.9.2 in /usr/local/lib/python3.7/dist-packages (from tensorflow) (3.17.3)\n",
            "Collecting tf-estimator-nightly==2.8.0.dev2021122109\n",
            "  Downloading tf_estimator_nightly-2.8.0.dev2021122109-py2.py3-none-any.whl (462 kB)\n",
            "\u001b[K     |████████████████████████████████| 462 kB 4.0 MB/s \n",
            "\u001b[?25hRequirement already satisfied: typing-extensions>=3.6.6 in /usr/local/lib/python3.7/dist-packages (from tensorflow) (3.10.0.2)\n",
            "Requirement already satisfied: libclang>=9.0.1 in /usr/local/lib/python3.7/dist-packages (from tensorflow) (13.0.0)\n",
            "Requirement already satisfied: absl-py>=0.4.0 in /usr/local/lib/python3.7/dist-packages (from tensorflow) (1.0.0)\n",
            "Requirement already satisfied: six>=1.12.0 in /usr/local/lib/python3.7/dist-packages (from tensorflow) (1.15.0)\n",
            "Requirement already satisfied: numpy>=1.20 in /usr/local/lib/python3.7/dist-packages (from tensorflow) (1.21.5)\n",
            "Requirement already satisfied: google-pasta>=0.1.1 in /usr/local/lib/python3.7/dist-packages (from tensorflow) (0.2.0)\n",
            "Requirement already satisfied: gast>=0.2.1 in /usr/local/lib/python3.7/dist-packages (from tensorflow) (0.5.3)\n",
            "Requirement already satisfied: opt-einsum>=2.3.2 in /usr/local/lib/python3.7/dist-packages (from tensorflow) (3.3.0)\n",
            "Requirement already satisfied: keras-preprocessing>=1.1.1 in /usr/local/lib/python3.7/dist-packages (from tensorflow) (1.1.2)\n",
            "Requirement already satisfied: grpcio<2.0,>=1.24.3 in /usr/local/lib/python3.7/dist-packages (from tensorflow) (1.44.0)\n",
            "Requirement already satisfied: keras<2.9,>=2.8.0rc0 in /usr/local/lib/python3.7/dist-packages (from tensorflow) (2.8.0)\n",
            "Requirement already satisfied: wheel<1.0,>=0.23.0 in /usr/local/lib/python3.7/dist-packages (from astunparse>=1.6.0->tensorflow) (0.37.1)\n",
            "Requirement already satisfied: cached-property in /usr/local/lib/python3.7/dist-packages (from h5py>=2.9.0->tensorflow) (1.5.2)\n",
            "Requirement already satisfied: markdown>=2.6.8 in /usr/local/lib/python3.7/dist-packages (from tensorboard<2.9,>=2.8->tensorflow) (3.3.6)\n",
            "Requirement already satisfied: tensorboard-plugin-wit>=1.6.0 in /usr/local/lib/python3.7/dist-packages (from tensorboard<2.9,>=2.8->tensorflow) (1.8.1)\n",
            "Requirement already satisfied: requests<3,>=2.21.0 in /usr/local/lib/python3.7/dist-packages (from tensorboard<2.9,>=2.8->tensorflow) (2.23.0)\n",
            "Requirement already satisfied: google-auth<3,>=1.6.3 in /usr/local/lib/python3.7/dist-packages (from tensorboard<2.9,>=2.8->tensorflow) (1.35.0)\n",
            "Requirement already satisfied: werkzeug>=0.11.15 in /usr/local/lib/python3.7/dist-packages (from tensorboard<2.9,>=2.8->tensorflow) (1.0.1)\n",
            "Requirement already satisfied: google-auth-oauthlib<0.5,>=0.4.1 in /usr/local/lib/python3.7/dist-packages (from tensorboard<2.9,>=2.8->tensorflow) (0.4.6)\n",
            "Requirement already satisfied: tensorboard-data-server<0.7.0,>=0.6.0 in /usr/local/lib/python3.7/dist-packages (from tensorboard<2.9,>=2.8->tensorflow) (0.6.1)\n",
            "Requirement already satisfied: cachetools<5.0,>=2.0.0 in /usr/local/lib/python3.7/dist-packages (from google-auth<3,>=1.6.3->tensorboard<2.9,>=2.8->tensorflow) (4.2.4)\n",
            "Requirement already satisfied: pyasn1-modules>=0.2.1 in /usr/local/lib/python3.7/dist-packages (from google-auth<3,>=1.6.3->tensorboard<2.9,>=2.8->tensorflow) (0.2.8)\n",
            "Requirement already satisfied: rsa<5,>=3.1.4 in /usr/local/lib/python3.7/dist-packages (from google-auth<3,>=1.6.3->tensorboard<2.9,>=2.8->tensorflow) (4.8)\n",
            "Requirement already satisfied: requests-oauthlib>=0.7.0 in /usr/local/lib/python3.7/dist-packages (from google-auth-oauthlib<0.5,>=0.4.1->tensorboard<2.9,>=2.8->tensorflow) (1.3.1)\n",
            "Requirement already satisfied: importlib-metadata>=4.4 in /usr/local/lib/python3.7/dist-packages (from markdown>=2.6.8->tensorboard<2.9,>=2.8->tensorflow) (4.11.2)\n",
            "Requirement already satisfied: zipp>=0.5 in /usr/local/lib/python3.7/dist-packages (from importlib-metadata>=4.4->markdown>=2.6.8->tensorboard<2.9,>=2.8->tensorflow) (3.7.0)\n",
            "Requirement already satisfied: pyasn1<0.5.0,>=0.4.6 in /usr/local/lib/python3.7/dist-packages (from pyasn1-modules>=0.2.1->google-auth<3,>=1.6.3->tensorboard<2.9,>=2.8->tensorflow) (0.4.8)\n",
            "Requirement already satisfied: urllib3!=1.25.0,!=1.25.1,<1.26,>=1.21.1 in /usr/local/lib/python3.7/dist-packages (from requests<3,>=2.21.0->tensorboard<2.9,>=2.8->tensorflow) (1.24.3)\n",
            "Requirement already satisfied: certifi>=2017.4.17 in /usr/local/lib/python3.7/dist-packages (from requests<3,>=2.21.0->tensorboard<2.9,>=2.8->tensorflow) (2021.10.8)\n",
            "Requirement already satisfied: idna<3,>=2.5 in /usr/local/lib/python3.7/dist-packages (from requests<3,>=2.21.0->tensorboard<2.9,>=2.8->tensorflow) (2.10)\n",
            "Requirement already satisfied: chardet<4,>=3.0.2 in /usr/local/lib/python3.7/dist-packages (from requests<3,>=2.21.0->tensorboard<2.9,>=2.8->tensorflow) (3.0.4)\n",
            "Requirement already satisfied: oauthlib>=3.0.0 in /usr/local/lib/python3.7/dist-packages (from requests-oauthlib>=0.7.0->google-auth-oauthlib<0.5,>=0.4.1->tensorboard<2.9,>=2.8->tensorflow) (3.2.0)\n",
            "Installing collected packages: tf-estimator-nightly\n",
            "Successfully installed tf-estimator-nightly-2.8.0.dev2021122109\n",
            "Requirement already satisfied: keras in /usr/local/lib/python3.7/dist-packages (2.8.0)\n"
          ]
        }
      ]
    },
    {
      "cell_type": "code",
      "source": [
        "model = Sequential()"
      ],
      "metadata": {
        "id": "rhsDIr9Ruw2C"
      },
      "execution_count": 67,
      "outputs": []
    },
    {
      "cell_type": "code",
      "source": [
        "model.add(Dense(units=5, input_dim=6, kernel_initializer='he_uniform', activation='relu'))\n",
        "model.add(Dense(units=5, kernel_initializer='he_uniform', activation='tanh'))\n",
        "model.add(Dense(units=1, kernel_initializer='he_uniform'))\n",
        "model.compile(loss='mean_squared_error', optimizer='adamax')"
      ],
      "metadata": {
        "id": "sh3ZJemku2oB"
      },
      "execution_count": 103,
      "outputs": []
    },
    {
      "cell_type": "code",
      "source": [
        "model.fit(X_train, y_train ,batch_size = 40, epochs = 80, verbose=1)"
      ],
      "metadata": {
        "colab": {
          "base_uri": "https://localhost:8080/"
        },
        "id": "rfIDuH4SvWZy",
        "outputId": "4c48d759-7e73-46b0-b7fa-e548195c101c"
      },
      "execution_count": 104,
      "outputs": [
        {
          "output_type": "stream",
          "name": "stdout",
          "text": [
            "Epoch 1/80\n",
            "12/12 [==============================] - 2s 8ms/step - loss: 1.0533\n",
            "Epoch 2/80\n",
            "12/12 [==============================] - 0s 7ms/step - loss: 0.9763\n",
            "Epoch 3/80\n",
            "12/12 [==============================] - 0s 8ms/step - loss: 0.9136\n",
            "Epoch 4/80\n",
            "12/12 [==============================] - 0s 8ms/step - loss: 0.8596\n",
            "Epoch 5/80\n",
            "12/12 [==============================] - 0s 8ms/step - loss: 0.8183\n",
            "Epoch 6/80\n",
            "12/12 [==============================] - 0s 7ms/step - loss: 0.7886\n",
            "Epoch 7/80\n",
            "12/12 [==============================] - 0s 7ms/step - loss: 0.7766\n",
            "Epoch 8/80\n",
            "12/12 [==============================] - 0s 8ms/step - loss: 0.7659\n",
            "Epoch 9/80\n",
            "12/12 [==============================] - 0s 7ms/step - loss: 0.7573\n",
            "Epoch 10/80\n",
            "12/12 [==============================] - 0s 7ms/step - loss: 0.7484\n",
            "Epoch 11/80\n",
            "12/12 [==============================] - 0s 8ms/step - loss: 0.7423\n",
            "Epoch 12/80\n",
            "12/12 [==============================] - 0s 7ms/step - loss: 0.7362\n",
            "Epoch 13/80\n",
            "12/12 [==============================] - 0s 8ms/step - loss: 0.7314\n",
            "Epoch 14/80\n",
            "12/12 [==============================] - 0s 8ms/step - loss: 0.7265\n",
            "Epoch 15/80\n",
            "12/12 [==============================] - 0s 7ms/step - loss: 0.7218\n",
            "Epoch 16/80\n",
            "12/12 [==============================] - 0s 8ms/step - loss: 0.7180\n",
            "Epoch 17/80\n",
            "12/12 [==============================] - 0s 7ms/step - loss: 0.7143\n",
            "Epoch 18/80\n",
            "12/12 [==============================] - 0s 8ms/step - loss: 0.7111\n",
            "Epoch 19/80\n",
            "12/12 [==============================] - 0s 8ms/step - loss: 0.7080\n",
            "Epoch 20/80\n",
            "12/12 [==============================] - 0s 8ms/step - loss: 0.7050\n",
            "Epoch 21/80\n",
            "12/12 [==============================] - 0s 7ms/step - loss: 0.7033\n",
            "Epoch 22/80\n",
            "12/12 [==============================] - 0s 8ms/step - loss: 0.7014\n",
            "Epoch 23/80\n",
            "12/12 [==============================] - 0s 7ms/step - loss: 0.6989\n",
            "Epoch 24/80\n",
            "12/12 [==============================] - 0s 7ms/step - loss: 0.6969\n",
            "Epoch 25/80\n",
            "12/12 [==============================] - 0s 7ms/step - loss: 0.6948\n",
            "Epoch 26/80\n",
            "12/12 [==============================] - 0s 7ms/step - loss: 0.6936\n",
            "Epoch 27/80\n",
            "12/12 [==============================] - 0s 8ms/step - loss: 0.6923\n",
            "Epoch 28/80\n",
            "12/12 [==============================] - 0s 7ms/step - loss: 0.6911\n",
            "Epoch 29/80\n",
            "12/12 [==============================] - 0s 7ms/step - loss: 0.6898\n",
            "Epoch 30/80\n",
            "12/12 [==============================] - 0s 7ms/step - loss: 0.6884\n",
            "Epoch 31/80\n",
            "12/12 [==============================] - 0s 7ms/step - loss: 0.6880\n",
            "Epoch 32/80\n",
            "12/12 [==============================] - 0s 7ms/step - loss: 0.6873\n",
            "Epoch 33/80\n",
            "12/12 [==============================] - 0s 8ms/step - loss: 0.6863\n",
            "Epoch 34/80\n",
            "12/12 [==============================] - 0s 8ms/step - loss: 0.6860\n",
            "Epoch 35/80\n",
            "12/12 [==============================] - 0s 8ms/step - loss: 0.6858\n",
            "Epoch 36/80\n",
            "12/12 [==============================] - 0s 7ms/step - loss: 0.6844\n",
            "Epoch 37/80\n",
            "12/12 [==============================] - 0s 7ms/step - loss: 0.6846\n",
            "Epoch 38/80\n",
            "12/12 [==============================] - 0s 7ms/step - loss: 0.6842\n",
            "Epoch 39/80\n",
            "12/12 [==============================] - 0s 8ms/step - loss: 0.6845\n",
            "Epoch 40/80\n",
            "12/12 [==============================] - 0s 7ms/step - loss: 0.6838\n",
            "Epoch 41/80\n",
            "12/12 [==============================] - 0s 7ms/step - loss: 0.6837\n",
            "Epoch 42/80\n",
            "12/12 [==============================] - 0s 8ms/step - loss: 0.6834\n",
            "Epoch 43/80\n",
            "12/12 [==============================] - 0s 8ms/step - loss: 0.6830\n",
            "Epoch 44/80\n",
            "12/12 [==============================] - 0s 7ms/step - loss: 0.6830\n",
            "Epoch 45/80\n",
            "12/12 [==============================] - 0s 7ms/step - loss: 0.6833\n",
            "Epoch 46/80\n",
            "12/12 [==============================] - 0s 17ms/step - loss: 0.6829\n",
            "Epoch 47/80\n",
            "12/12 [==============================] - 0s 18ms/step - loss: 0.6827\n",
            "Epoch 48/80\n",
            "12/12 [==============================] - 0s 14ms/step - loss: 0.6829\n",
            "Epoch 49/80\n",
            "12/12 [==============================] - 0s 12ms/step - loss: 0.6827\n",
            "Epoch 50/80\n",
            "12/12 [==============================] - 0s 8ms/step - loss: 0.6824\n",
            "Epoch 51/80\n",
            "12/12 [==============================] - 0s 7ms/step - loss: 0.6824\n",
            "Epoch 52/80\n",
            "12/12 [==============================] - 0s 7ms/step - loss: 0.6823\n",
            "Epoch 53/80\n",
            "12/12 [==============================] - 0s 7ms/step - loss: 0.6827\n",
            "Epoch 54/80\n",
            "12/12 [==============================] - 0s 9ms/step - loss: 0.6824\n",
            "Epoch 55/80\n",
            "12/12 [==============================] - 0s 17ms/step - loss: 0.6823\n",
            "Epoch 56/80\n",
            "12/12 [==============================] - 0s 15ms/step - loss: 0.6824\n",
            "Epoch 57/80\n",
            "12/12 [==============================] - 0s 14ms/step - loss: 0.6823\n",
            "Epoch 58/80\n",
            "12/12 [==============================] - 0s 7ms/step - loss: 0.6823\n",
            "Epoch 59/80\n",
            "12/12 [==============================] - 0s 7ms/step - loss: 0.6824\n",
            "Epoch 60/80\n",
            "12/12 [==============================] - 0s 8ms/step - loss: 0.6824\n",
            "Epoch 61/80\n",
            "12/12 [==============================] - 0s 8ms/step - loss: 0.6825\n",
            "Epoch 62/80\n",
            "12/12 [==============================] - 0s 7ms/step - loss: 0.6822\n",
            "Epoch 63/80\n",
            "12/12 [==============================] - 0s 16ms/step - loss: 0.6824\n",
            "Epoch 64/80\n",
            "12/12 [==============================] - 0s 14ms/step - loss: 0.6822\n",
            "Epoch 65/80\n",
            "12/12 [==============================] - 0s 14ms/step - loss: 0.6822\n",
            "Epoch 66/80\n",
            "12/12 [==============================] - 0s 12ms/step - loss: 0.6822\n",
            "Epoch 67/80\n",
            "12/12 [==============================] - 0s 8ms/step - loss: 0.6821\n",
            "Epoch 68/80\n",
            "12/12 [==============================] - 0s 7ms/step - loss: 0.6822\n",
            "Epoch 69/80\n",
            "12/12 [==============================] - 0s 7ms/step - loss: 0.6823\n",
            "Epoch 70/80\n",
            "12/12 [==============================] - 0s 7ms/step - loss: 0.6824\n",
            "Epoch 71/80\n",
            "12/12 [==============================] - 0s 8ms/step - loss: 0.6821\n",
            "Epoch 72/80\n",
            "12/12 [==============================] - 0s 7ms/step - loss: 0.6822\n",
            "Epoch 73/80\n",
            "12/12 [==============================] - 0s 7ms/step - loss: 0.6821\n",
            "Epoch 74/80\n",
            "12/12 [==============================] - 0s 9ms/step - loss: 0.6822\n",
            "Epoch 75/80\n",
            "12/12 [==============================] - 0s 8ms/step - loss: 0.6822\n",
            "Epoch 76/80\n",
            "12/12 [==============================] - 0s 8ms/step - loss: 0.6822\n",
            "Epoch 77/80\n",
            "12/12 [==============================] - 0s 7ms/step - loss: 0.6824\n",
            "Epoch 78/80\n",
            "12/12 [==============================] - 0s 8ms/step - loss: 0.6822\n",
            "Epoch 79/80\n",
            "12/12 [==============================] - 0s 7ms/step - loss: 0.6822\n",
            "Epoch 80/80\n",
            "12/12 [==============================] - 0s 7ms/step - loss: 0.6822\n"
          ]
        },
        {
          "output_type": "execute_result",
          "data": {
            "text/plain": [
              "<keras.callbacks.History at 0x7f720a034c90>"
            ]
          },
          "metadata": {},
          "execution_count": 104
        }
      ]
    },
    {
      "cell_type": "code",
      "source": [
        "annpreds=model.predict(X_test)"
      ],
      "metadata": {
        "id": "voQ2dIuWvq5U"
      },
      "execution_count": 80,
      "outputs": []
    },
    {
      "cell_type": "code",
      "source": [
        "r2_score(y_test,annpreds)"
      ],
      "metadata": {
        "colab": {
          "base_uri": "https://localhost:8080/"
        },
        "id": "3lI5ncbZxQar",
        "outputId": "140aa34f-8243-4b87-de6b-396c86d2afe1"
      },
      "execution_count": 81,
      "outputs": [
        {
          "output_type": "execute_result",
          "data": {
            "text/plain": [
              "0.5717529780860384"
            ]
          },
          "metadata": {},
          "execution_count": 81
        }
      ]
    },
    {
      "cell_type": "code",
      "source": [
        ""
      ],
      "metadata": {
        "id": "9JrmLj6qxYfr"
      },
      "execution_count": null,
      "outputs": []
    }
  ],
  "metadata": {
    "colab": {
      "collapsed_sections": [],
      "name": "LC50.ipynb",
      "provenance": [],
      "authorship_tag": "ABX9TyONl5mHeyNvCfAWNc7kpPbO",
      "include_colab_link": true
    },
    "kernelspec": {
      "display_name": "Python 3",
      "name": "python3"
    },
    "language_info": {
      "name": "python"
    },
    "accelerator": "GPU"
  },
  "nbformat": 4,
  "nbformat_minor": 0
}