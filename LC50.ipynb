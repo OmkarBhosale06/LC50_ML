{
 "cells": [
  {
   "cell_type": "code",
   "execution_count": 1,
   "metadata": {
    "id": "VGPz9jKEW1RO"
   },
   "outputs": [],
   "source": [
    "import pandas as pd \n",
    "import numpy as np\n",
    "import matplotlib.pyplot as plt\n",
    "from sklearn.model_selection import train_test_split\n",
    "from sklearn.linear_model import LinearRegression"
   ]
  },
  {
   "cell_type": "code",
   "execution_count": 2,
   "metadata": {
    "id": "enTHTgByYA_C"
   },
   "outputs": [],
   "source": [
    "dataset = './dataset/qsar_fish_toxicity.csv'\n",
    "data = pd.read_csv(dataset)"
   ]
  },
  {
   "cell_type": "code",
   "execution_count": 3,
   "metadata": {
    "colab": {
     "base_uri": "https://localhost:8080/",
     "height": 206
    },
    "id": "sNzeFzsgYZFI",
    "outputId": "99766503-71ea-4ba1-efa6-3d971b0a5739"
   },
   "outputs": [
    {
     "data": {
      "text/html": [
       "<div>\n",
       "<style scoped>\n",
       "    .dataframe tbody tr th:only-of-type {\n",
       "        vertical-align: middle;\n",
       "    }\n",
       "\n",
       "    .dataframe tbody tr th {\n",
       "        vertical-align: top;\n",
       "    }\n",
       "\n",
       "    .dataframe thead th {\n",
       "        text-align: right;\n",
       "    }\n",
       "</style>\n",
       "<table border=\"1\" class=\"dataframe\">\n",
       "  <thead>\n",
       "    <tr style=\"text-align: right;\">\n",
       "      <th></th>\n",
       "      <th>CIC0</th>\n",
       "      <th>SM1_Dz(Z)</th>\n",
       "      <th>GATS1i</th>\n",
       "      <th>NdsCH</th>\n",
       "      <th>NdssC</th>\n",
       "      <th>MLOGP</th>\n",
       "      <th>LC50 [-LOG(mol/L)]</th>\n",
       "    </tr>\n",
       "  </thead>\n",
       "  <tbody>\n",
       "    <tr>\n",
       "      <th>0</th>\n",
       "      <td>3.260</td>\n",
       "      <td>0.829</td>\n",
       "      <td>1.676</td>\n",
       "      <td>0</td>\n",
       "      <td>1</td>\n",
       "      <td>1.453</td>\n",
       "      <td>3.770</td>\n",
       "    </tr>\n",
       "    <tr>\n",
       "      <th>1</th>\n",
       "      <td>2.189</td>\n",
       "      <td>0.580</td>\n",
       "      <td>0.863</td>\n",
       "      <td>0</td>\n",
       "      <td>0</td>\n",
       "      <td>1.348</td>\n",
       "      <td>3.115</td>\n",
       "    </tr>\n",
       "    <tr>\n",
       "      <th>2</th>\n",
       "      <td>2.125</td>\n",
       "      <td>0.638</td>\n",
       "      <td>0.831</td>\n",
       "      <td>0</td>\n",
       "      <td>0</td>\n",
       "      <td>1.348</td>\n",
       "      <td>3.531</td>\n",
       "    </tr>\n",
       "    <tr>\n",
       "      <th>3</th>\n",
       "      <td>3.027</td>\n",
       "      <td>0.331</td>\n",
       "      <td>1.472</td>\n",
       "      <td>1</td>\n",
       "      <td>0</td>\n",
       "      <td>1.807</td>\n",
       "      <td>3.510</td>\n",
       "    </tr>\n",
       "    <tr>\n",
       "      <th>4</th>\n",
       "      <td>2.094</td>\n",
       "      <td>0.827</td>\n",
       "      <td>0.860</td>\n",
       "      <td>0</td>\n",
       "      <td>0</td>\n",
       "      <td>1.886</td>\n",
       "      <td>5.390</td>\n",
       "    </tr>\n",
       "  </tbody>\n",
       "</table>\n",
       "</div>"
      ],
      "text/plain": [
       "    CIC0  SM1_Dz(Z)  GATS1i  NdsCH  NdssC  MLOGP  LC50 [-LOG(mol/L)]\n",
       "0  3.260      0.829   1.676      0      1  1.453               3.770\n",
       "1  2.189      0.580   0.863      0      0  1.348               3.115\n",
       "2  2.125      0.638   0.831      0      0  1.348               3.531\n",
       "3  3.027      0.331   1.472      1      0  1.807               3.510\n",
       "4  2.094      0.827   0.860      0      0  1.886               5.390"
      ]
     },
     "execution_count": 3,
     "metadata": {},
     "output_type": "execute_result"
    }
   ],
   "source": [
    "data.head()"
   ]
  },
  {
   "cell_type": "code",
   "execution_count": 4,
   "metadata": {},
   "outputs": [
    {
     "data": {
      "text/plain": [
       "['CIC0',\n",
       " 'SM1_Dz(Z)',\n",
       " 'GATS1i',\n",
       " 'NdsCH',\n",
       " 'NdssC',\n",
       " 'MLOGP',\n",
       " 'LC50 [-LOG(mol/L)]']"
      ]
     },
     "execution_count": 4,
     "metadata": {},
     "output_type": "execute_result"
    }
   ],
   "source": [
    "column_names = list(data.columns)\n",
    "column_names"
   ]
  },
  {
   "cell_type": "code",
   "execution_count": 5,
   "metadata": {},
   "outputs": [
    {
     "data": {
      "text/plain": [
       "(908, 7)"
      ]
     },
     "execution_count": 5,
     "metadata": {},
     "output_type": "execute_result"
    }
   ],
   "source": [
    "data.shape"
   ]
  },
  {
   "cell_type": "code",
   "execution_count": 6,
   "metadata": {
    "colab": {
     "base_uri": "https://localhost:8080/"
    },
    "id": "0cdAJ-zVZbwc",
    "outputId": "600f732c-8f9d-483a-9e8b-799f3808ba44"
   },
   "outputs": [
    {
     "data": {
      "text/plain": [
       "CIC0                  0\n",
       "SM1_Dz(Z)             0\n",
       "GATS1i                0\n",
       "NdsCH                 0\n",
       "NdssC                 0\n",
       "MLOGP                 0\n",
       "LC50 [-LOG(mol/L)]    0\n",
       "dtype: int64"
      ]
     },
     "execution_count": 6,
     "metadata": {},
     "output_type": "execute_result"
    }
   ],
   "source": [
    "data.isnull().sum()"
   ]
  },
  {
   "cell_type": "code",
   "execution_count": 7,
   "metadata": {
    "colab": {
     "base_uri": "https://localhost:8080/",
     "height": 300
    },
    "id": "hvcT3bp09_X3",
    "outputId": "4eab0a4f-faf3-4a5e-e313-424a78e93937"
   },
   "outputs": [
    {
     "data": {
      "text/html": [
       "<div>\n",
       "<style scoped>\n",
       "    .dataframe tbody tr th:only-of-type {\n",
       "        vertical-align: middle;\n",
       "    }\n",
       "\n",
       "    .dataframe tbody tr th {\n",
       "        vertical-align: top;\n",
       "    }\n",
       "\n",
       "    .dataframe thead th {\n",
       "        text-align: right;\n",
       "    }\n",
       "</style>\n",
       "<table border=\"1\" class=\"dataframe\">\n",
       "  <thead>\n",
       "    <tr style=\"text-align: right;\">\n",
       "      <th></th>\n",
       "      <th>CIC0</th>\n",
       "      <th>SM1_Dz(Z)</th>\n",
       "      <th>GATS1i</th>\n",
       "      <th>NdsCH</th>\n",
       "      <th>NdssC</th>\n",
       "      <th>MLOGP</th>\n",
       "      <th>LC50 [-LOG(mol/L)]</th>\n",
       "    </tr>\n",
       "  </thead>\n",
       "  <tbody>\n",
       "    <tr>\n",
       "      <th>count</th>\n",
       "      <td>908.000000</td>\n",
       "      <td>908.000000</td>\n",
       "      <td>908.000000</td>\n",
       "      <td>908.000000</td>\n",
       "      <td>908.000000</td>\n",
       "      <td>908.000000</td>\n",
       "      <td>908.000000</td>\n",
       "    </tr>\n",
       "    <tr>\n",
       "      <th>mean</th>\n",
       "      <td>2.898129</td>\n",
       "      <td>0.628468</td>\n",
       "      <td>1.293591</td>\n",
       "      <td>0.229075</td>\n",
       "      <td>0.485683</td>\n",
       "      <td>2.109285</td>\n",
       "      <td>4.064431</td>\n",
       "    </tr>\n",
       "    <tr>\n",
       "      <th>std</th>\n",
       "      <td>0.756088</td>\n",
       "      <td>0.428459</td>\n",
       "      <td>0.394303</td>\n",
       "      <td>0.605335</td>\n",
       "      <td>0.861279</td>\n",
       "      <td>1.433181</td>\n",
       "      <td>1.455698</td>\n",
       "    </tr>\n",
       "    <tr>\n",
       "      <th>min</th>\n",
       "      <td>0.667000</td>\n",
       "      <td>0.000000</td>\n",
       "      <td>0.396000</td>\n",
       "      <td>0.000000</td>\n",
       "      <td>0.000000</td>\n",
       "      <td>-2.884000</td>\n",
       "      <td>0.053000</td>\n",
       "    </tr>\n",
       "    <tr>\n",
       "      <th>25%</th>\n",
       "      <td>2.347000</td>\n",
       "      <td>0.223000</td>\n",
       "      <td>0.950750</td>\n",
       "      <td>0.000000</td>\n",
       "      <td>0.000000</td>\n",
       "      <td>1.209000</td>\n",
       "      <td>3.151750</td>\n",
       "    </tr>\n",
       "    <tr>\n",
       "      <th>50%</th>\n",
       "      <td>2.934000</td>\n",
       "      <td>0.570000</td>\n",
       "      <td>1.240500</td>\n",
       "      <td>0.000000</td>\n",
       "      <td>0.000000</td>\n",
       "      <td>2.127000</td>\n",
       "      <td>3.987500</td>\n",
       "    </tr>\n",
       "    <tr>\n",
       "      <th>75%</th>\n",
       "      <td>3.407000</td>\n",
       "      <td>0.892750</td>\n",
       "      <td>1.562250</td>\n",
       "      <td>0.000000</td>\n",
       "      <td>1.000000</td>\n",
       "      <td>3.105000</td>\n",
       "      <td>4.907500</td>\n",
       "    </tr>\n",
       "    <tr>\n",
       "      <th>max</th>\n",
       "      <td>5.926000</td>\n",
       "      <td>2.171000</td>\n",
       "      <td>2.920000</td>\n",
       "      <td>4.000000</td>\n",
       "      <td>6.000000</td>\n",
       "      <td>6.515000</td>\n",
       "      <td>9.612000</td>\n",
       "    </tr>\n",
       "  </tbody>\n",
       "</table>\n",
       "</div>"
      ],
      "text/plain": [
       "             CIC0   SM1_Dz(Z)      GATS1i       NdsCH       NdssC       MLOGP  \\\n",
       "count  908.000000  908.000000  908.000000  908.000000  908.000000  908.000000   \n",
       "mean     2.898129    0.628468    1.293591    0.229075    0.485683    2.109285   \n",
       "std      0.756088    0.428459    0.394303    0.605335    0.861279    1.433181   \n",
       "min      0.667000    0.000000    0.396000    0.000000    0.000000   -2.884000   \n",
       "25%      2.347000    0.223000    0.950750    0.000000    0.000000    1.209000   \n",
       "50%      2.934000    0.570000    1.240500    0.000000    0.000000    2.127000   \n",
       "75%      3.407000    0.892750    1.562250    0.000000    1.000000    3.105000   \n",
       "max      5.926000    2.171000    2.920000    4.000000    6.000000    6.515000   \n",
       "\n",
       "       LC50 [-LOG(mol/L)]  \n",
       "count          908.000000  \n",
       "mean             4.064431  \n",
       "std              1.455698  \n",
       "min              0.053000  \n",
       "25%              3.151750  \n",
       "50%              3.987500  \n",
       "75%              4.907500  \n",
       "max              9.612000  "
      ]
     },
     "execution_count": 7,
     "metadata": {},
     "output_type": "execute_result"
    }
   ],
   "source": [
    "data.describe()"
   ]
  },
  {
   "cell_type": "code",
   "execution_count": 8,
   "metadata": {
    "colab": {
     "base_uri": "https://localhost:8080/"
    },
    "id": "7gAPOaD0q4b3",
    "outputId": "1f9800d1-eb8a-476e-bc3b-0bbe9768d23a"
   },
   "outputs": [
    {
     "data": {
      "text/plain": [
       "CIC0                  0.756088\n",
       "SM1_Dz(Z)             0.428459\n",
       "GATS1i                0.394303\n",
       "NdsCH                 0.605335\n",
       "NdssC                 0.861279\n",
       "MLOGP                 1.433181\n",
       "LC50 [-LOG(mol/L)]    1.455698\n",
       "dtype: float64"
      ]
     },
     "execution_count": 8,
     "metadata": {},
     "output_type": "execute_result"
    }
   ],
   "source": [
    "data.std()"
   ]
  },
  {
   "cell_type": "code",
   "execution_count": 9,
   "metadata": {
    "colab": {
     "base_uri": "https://localhost:8080/"
    },
    "id": "Bd4vBxqphtXm",
    "outputId": "a238387e-ceb4-4200-dba1-71c13f018a11"
   },
   "outputs": [],
   "source": [
    "from sklearn.preprocessing import StandardScaler\n",
    "scaler = StandardScaler()\n",
    "data = scaler.fit_transform(data)"
   ]
  },
  {
   "cell_type": "code",
   "execution_count": 10,
   "metadata": {
    "colab": {
     "base_uri": "https://localhost:8080/"
    },
    "id": "7rhTrZJCh-98",
    "outputId": "15cffd9f-59f3-4c3a-d4b7-93e5d8f5f977"
   },
   "outputs": [],
   "source": [
    "df = pd.DataFrame(data)"
   ]
  },
  {
   "cell_type": "code",
   "execution_count": 11,
   "metadata": {},
   "outputs": [
    {
     "data": {
      "text/html": [
       "<div>\n",
       "<style scoped>\n",
       "    .dataframe tbody tr th:only-of-type {\n",
       "        vertical-align: middle;\n",
       "    }\n",
       "\n",
       "    .dataframe tbody tr th {\n",
       "        vertical-align: top;\n",
       "    }\n",
       "\n",
       "    .dataframe thead th {\n",
       "        text-align: right;\n",
       "    }\n",
       "</style>\n",
       "<table border=\"1\" class=\"dataframe\">\n",
       "  <thead>\n",
       "    <tr style=\"text-align: right;\">\n",
       "      <th></th>\n",
       "      <th>0</th>\n",
       "      <th>1</th>\n",
       "      <th>2</th>\n",
       "      <th>3</th>\n",
       "      <th>4</th>\n",
       "      <th>5</th>\n",
       "      <th>6</th>\n",
       "    </tr>\n",
       "  </thead>\n",
       "  <tbody>\n",
       "    <tr>\n",
       "      <th>0</th>\n",
       "      <td>0.478873</td>\n",
       "      <td>0.468288</td>\n",
       "      <td>0.970369</td>\n",
       "      <td>-0.378635</td>\n",
       "      <td>0.597484</td>\n",
       "      <td>-0.458175</td>\n",
       "      <td>-0.202372</td>\n",
       "    </tr>\n",
       "    <tr>\n",
       "      <th>1</th>\n",
       "      <td>-0.938408</td>\n",
       "      <td>-0.113184</td>\n",
       "      <td>-1.092634</td>\n",
       "      <td>-0.378635</td>\n",
       "      <td>-0.564220</td>\n",
       "      <td>-0.531479</td>\n",
       "      <td>-0.652576</td>\n",
       "    </tr>\n",
       "    <tr>\n",
       "      <th>2</th>\n",
       "      <td>-1.023101</td>\n",
       "      <td>0.022259</td>\n",
       "      <td>-1.173835</td>\n",
       "      <td>-0.378635</td>\n",
       "      <td>-0.564220</td>\n",
       "      <td>-0.531479</td>\n",
       "      <td>-0.366645</td>\n",
       "    </tr>\n",
       "    <tr>\n",
       "      <th>3</th>\n",
       "      <td>0.170538</td>\n",
       "      <td>-0.694657</td>\n",
       "      <td>0.452715</td>\n",
       "      <td>1.274253</td>\n",
       "      <td>-0.564220</td>\n",
       "      <td>-0.211035</td>\n",
       "      <td>-0.381079</td>\n",
       "    </tr>\n",
       "    <tr>\n",
       "      <th>4</th>\n",
       "      <td>-1.064124</td>\n",
       "      <td>0.463618</td>\n",
       "      <td>-1.100247</td>\n",
       "      <td>-0.378635</td>\n",
       "      <td>-0.564220</td>\n",
       "      <td>-0.155883</td>\n",
       "      <td>0.911109</td>\n",
       "    </tr>\n",
       "  </tbody>\n",
       "</table>\n",
       "</div>"
      ],
      "text/plain": [
       "          0         1         2         3         4         5         6\n",
       "0  0.478873  0.468288  0.970369 -0.378635  0.597484 -0.458175 -0.202372\n",
       "1 -0.938408 -0.113184 -1.092634 -0.378635 -0.564220 -0.531479 -0.652576\n",
       "2 -1.023101  0.022259 -1.173835 -0.378635 -0.564220 -0.531479 -0.366645\n",
       "3  0.170538 -0.694657  0.452715  1.274253 -0.564220 -0.211035 -0.381079\n",
       "4 -1.064124  0.463618 -1.100247 -0.378635 -0.564220 -0.155883  0.911109"
      ]
     },
     "execution_count": 11,
     "metadata": {},
     "output_type": "execute_result"
    }
   ],
   "source": [
    "df.head()"
   ]
  },
  {
   "cell_type": "code",
   "execution_count": 12,
   "metadata": {},
   "outputs": [],
   "source": [
    "df.columns = column_names"
   ]
  },
  {
   "cell_type": "code",
   "execution_count": 13,
   "metadata": {},
   "outputs": [
    {
     "data": {
      "text/html": [
       "<div>\n",
       "<style scoped>\n",
       "    .dataframe tbody tr th:only-of-type {\n",
       "        vertical-align: middle;\n",
       "    }\n",
       "\n",
       "    .dataframe tbody tr th {\n",
       "        vertical-align: top;\n",
       "    }\n",
       "\n",
       "    .dataframe thead th {\n",
       "        text-align: right;\n",
       "    }\n",
       "</style>\n",
       "<table border=\"1\" class=\"dataframe\">\n",
       "  <thead>\n",
       "    <tr style=\"text-align: right;\">\n",
       "      <th></th>\n",
       "      <th>CIC0</th>\n",
       "      <th>SM1_Dz(Z)</th>\n",
       "      <th>GATS1i</th>\n",
       "      <th>NdsCH</th>\n",
       "      <th>NdssC</th>\n",
       "      <th>MLOGP</th>\n",
       "      <th>LC50 [-LOG(mol/L)]</th>\n",
       "    </tr>\n",
       "  </thead>\n",
       "  <tbody>\n",
       "    <tr>\n",
       "      <th>0</th>\n",
       "      <td>0.478873</td>\n",
       "      <td>0.468288</td>\n",
       "      <td>0.970369</td>\n",
       "      <td>-0.378635</td>\n",
       "      <td>0.597484</td>\n",
       "      <td>-0.458175</td>\n",
       "      <td>-0.202372</td>\n",
       "    </tr>\n",
       "    <tr>\n",
       "      <th>1</th>\n",
       "      <td>-0.938408</td>\n",
       "      <td>-0.113184</td>\n",
       "      <td>-1.092634</td>\n",
       "      <td>-0.378635</td>\n",
       "      <td>-0.564220</td>\n",
       "      <td>-0.531479</td>\n",
       "      <td>-0.652576</td>\n",
       "    </tr>\n",
       "    <tr>\n",
       "      <th>2</th>\n",
       "      <td>-1.023101</td>\n",
       "      <td>0.022259</td>\n",
       "      <td>-1.173835</td>\n",
       "      <td>-0.378635</td>\n",
       "      <td>-0.564220</td>\n",
       "      <td>-0.531479</td>\n",
       "      <td>-0.366645</td>\n",
       "    </tr>\n",
       "    <tr>\n",
       "      <th>3</th>\n",
       "      <td>0.170538</td>\n",
       "      <td>-0.694657</td>\n",
       "      <td>0.452715</td>\n",
       "      <td>1.274253</td>\n",
       "      <td>-0.564220</td>\n",
       "      <td>-0.211035</td>\n",
       "      <td>-0.381079</td>\n",
       "    </tr>\n",
       "    <tr>\n",
       "      <th>4</th>\n",
       "      <td>-1.064124</td>\n",
       "      <td>0.463618</td>\n",
       "      <td>-1.100247</td>\n",
       "      <td>-0.378635</td>\n",
       "      <td>-0.564220</td>\n",
       "      <td>-0.155883</td>\n",
       "      <td>0.911109</td>\n",
       "    </tr>\n",
       "  </tbody>\n",
       "</table>\n",
       "</div>"
      ],
      "text/plain": [
       "       CIC0  SM1_Dz(Z)    GATS1i     NdsCH     NdssC     MLOGP  \\\n",
       "0  0.478873   0.468288  0.970369 -0.378635  0.597484 -0.458175   \n",
       "1 -0.938408  -0.113184 -1.092634 -0.378635 -0.564220 -0.531479   \n",
       "2 -1.023101   0.022259 -1.173835 -0.378635 -0.564220 -0.531479   \n",
       "3  0.170538  -0.694657  0.452715  1.274253 -0.564220 -0.211035   \n",
       "4 -1.064124   0.463618 -1.100247 -0.378635 -0.564220 -0.155883   \n",
       "\n",
       "   LC50 [-LOG(mol/L)]  \n",
       "0           -0.202372  \n",
       "1           -0.652576  \n",
       "2           -0.366645  \n",
       "3           -0.381079  \n",
       "4            0.911109  "
      ]
     },
     "execution_count": 13,
     "metadata": {},
     "output_type": "execute_result"
    }
   ],
   "source": [
    "df.head()"
   ]
  },
  {
   "cell_type": "code",
   "execution_count": 14,
   "metadata": {},
   "outputs": [],
   "source": [
    "X = df.drop(['LC50 [-LOG(mol/L)]'], axis=1)"
   ]
  },
  {
   "cell_type": "code",
   "execution_count": 15,
   "metadata": {},
   "outputs": [
    {
     "data": {
      "text/html": [
       "<div>\n",
       "<style scoped>\n",
       "    .dataframe tbody tr th:only-of-type {\n",
       "        vertical-align: middle;\n",
       "    }\n",
       "\n",
       "    .dataframe tbody tr th {\n",
       "        vertical-align: top;\n",
       "    }\n",
       "\n",
       "    .dataframe thead th {\n",
       "        text-align: right;\n",
       "    }\n",
       "</style>\n",
       "<table border=\"1\" class=\"dataframe\">\n",
       "  <thead>\n",
       "    <tr style=\"text-align: right;\">\n",
       "      <th></th>\n",
       "      <th>CIC0</th>\n",
       "      <th>SM1_Dz(Z)</th>\n",
       "      <th>GATS1i</th>\n",
       "      <th>NdsCH</th>\n",
       "      <th>NdssC</th>\n",
       "      <th>MLOGP</th>\n",
       "    </tr>\n",
       "  </thead>\n",
       "  <tbody>\n",
       "    <tr>\n",
       "      <th>0</th>\n",
       "      <td>0.478873</td>\n",
       "      <td>0.468288</td>\n",
       "      <td>0.970369</td>\n",
       "      <td>-0.378635</td>\n",
       "      <td>0.597484</td>\n",
       "      <td>-0.458175</td>\n",
       "    </tr>\n",
       "    <tr>\n",
       "      <th>1</th>\n",
       "      <td>-0.938408</td>\n",
       "      <td>-0.113184</td>\n",
       "      <td>-1.092634</td>\n",
       "      <td>-0.378635</td>\n",
       "      <td>-0.564220</td>\n",
       "      <td>-0.531479</td>\n",
       "    </tr>\n",
       "    <tr>\n",
       "      <th>2</th>\n",
       "      <td>-1.023101</td>\n",
       "      <td>0.022259</td>\n",
       "      <td>-1.173835</td>\n",
       "      <td>-0.378635</td>\n",
       "      <td>-0.564220</td>\n",
       "      <td>-0.531479</td>\n",
       "    </tr>\n",
       "    <tr>\n",
       "      <th>3</th>\n",
       "      <td>0.170538</td>\n",
       "      <td>-0.694657</td>\n",
       "      <td>0.452715</td>\n",
       "      <td>1.274253</td>\n",
       "      <td>-0.564220</td>\n",
       "      <td>-0.211035</td>\n",
       "    </tr>\n",
       "    <tr>\n",
       "      <th>4</th>\n",
       "      <td>-1.064124</td>\n",
       "      <td>0.463618</td>\n",
       "      <td>-1.100247</td>\n",
       "      <td>-0.378635</td>\n",
       "      <td>-0.564220</td>\n",
       "      <td>-0.155883</td>\n",
       "    </tr>\n",
       "  </tbody>\n",
       "</table>\n",
       "</div>"
      ],
      "text/plain": [
       "       CIC0  SM1_Dz(Z)    GATS1i     NdsCH     NdssC     MLOGP\n",
       "0  0.478873   0.468288  0.970369 -0.378635  0.597484 -0.458175\n",
       "1 -0.938408  -0.113184 -1.092634 -0.378635 -0.564220 -0.531479\n",
       "2 -1.023101   0.022259 -1.173835 -0.378635 -0.564220 -0.531479\n",
       "3  0.170538  -0.694657  0.452715  1.274253 -0.564220 -0.211035\n",
       "4 -1.064124   0.463618 -1.100247 -0.378635 -0.564220 -0.155883"
      ]
     },
     "execution_count": 15,
     "metadata": {},
     "output_type": "execute_result"
    }
   ],
   "source": [
    "X.head()"
   ]
  },
  {
   "cell_type": "code",
   "execution_count": 16,
   "metadata": {},
   "outputs": [],
   "source": [
    "y = df['LC50 [-LOG(mol/L)]']"
   ]
  },
  {
   "cell_type": "code",
   "execution_count": 17,
   "metadata": {
    "colab": {
     "base_uri": "https://localhost:8080/"
    },
    "id": "dYzcHRbgim8l",
    "outputId": "35bb279d-d8d2-4790-da5c-a17af1ae2cd3"
   },
   "outputs": [
    {
     "data": {
      "text/plain": [
       "0   -0.202372\n",
       "1   -0.652576\n",
       "2   -0.366645\n",
       "3   -0.381079\n",
       "4    0.911109\n",
       "Name: LC50 [-LOG(mol/L)], dtype: float64"
      ]
     },
     "execution_count": 17,
     "metadata": {},
     "output_type": "execute_result"
    }
   ],
   "source": [
    "y.head()"
   ]
  },
  {
   "cell_type": "code",
   "execution_count": 18,
   "metadata": {
    "id": "dPRVJOpUi5CZ"
   },
   "outputs": [],
   "source": [
    "model = LinearRegression()\n",
    "X_train, X_test, y_train, y_test = train_test_split(X,y,test_size=0.2,random_state=1)"
   ]
  },
  {
   "cell_type": "code",
   "execution_count": 19,
   "metadata": {
    "colab": {
     "base_uri": "https://localhost:8080/",
     "height": 310
    },
    "id": "q3zoBDyCjW72",
    "outputId": "c83489e3-7465-4b92-91bc-4e554de7b131"
   },
   "outputs": [
    {
     "data": {
      "text/plain": [
       "LinearRegression()"
      ]
     },
     "execution_count": 19,
     "metadata": {},
     "output_type": "execute_result"
    }
   ],
   "source": [
    "model.fit(X_train, y_train)"
   ]
  }
 ],
 "metadata": {
  "colab": {
   "authorship_tag": "ABX9TyP9NJ5a60WmN6JM6v7rKEPX",
   "collapsed_sections": [],
   "include_colab_link": true,
   "name": "Untitled12.ipynb",
   "provenance": []
  },
  "kernelspec": {
   "display_name": "Python 3",
   "language": "python",
   "name": "python3"
  },
  "language_info": {
   "codemirror_mode": {
    "name": "ipython",
    "version": 3
   },
   "file_extension": ".py",
   "mimetype": "text/x-python",
   "name": "python",
   "nbconvert_exporter": "python",
   "pygments_lexer": "ipython3",
   "version": "3.7.0"
  }
 },
 "nbformat": 4,
 "nbformat_minor": 1
}
