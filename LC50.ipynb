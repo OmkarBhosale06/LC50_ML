{
 "cells": [
  {
   "cell_type": "code",
   "execution_count": 1,
   "metadata": {
    "id": "VGPz9jKEW1RO"
   },
   "outputs": [],
   "source": [
    "import pandas as pd \n",
    "import numpy as np\n",
    "import matplotlib.pyplot as plt\n",
    "from sklearn.model_selection import train_test_split\n",
    "from sklearn.linear_model import LinearRegression"
   ]
  },
  {
   "cell_type": "code",
   "execution_count": 2,
   "metadata": {
    "id": "enTHTgByYA_C"
   },
   "outputs": [],
   "source": [
    "dataset = './dataset/qsar_fish_toxicity.csv'\n",
    "data = pd.read_csv(dataset)"
   ]
  },
  {
   "cell_type": "code",
   "execution_count": 3,
   "metadata": {
    "colab": {
     "base_uri": "https://localhost:8080/",
     "height": 206
    },
    "id": "sNzeFzsgYZFI",
    "outputId": "10f9e1d4-ab24-4209-dd00-c53bae8cad75"
   },
   "outputs": [
    {
     "data": {
      "text/html": [
       "<div>\n",
       "<style scoped>\n",
       "    .dataframe tbody tr th:only-of-type {\n",
       "        vertical-align: middle;\n",
       "    }\n",
       "\n",
       "    .dataframe tbody tr th {\n",
       "        vertical-align: top;\n",
       "    }\n",
       "\n",
       "    .dataframe thead th {\n",
       "        text-align: right;\n",
       "    }\n",
       "</style>\n",
       "<table border=\"1\" class=\"dataframe\">\n",
       "  <thead>\n",
       "    <tr style=\"text-align: right;\">\n",
       "      <th></th>\n",
       "      <th>CIC0</th>\n",
       "      <th>SM1_Dz(Z)</th>\n",
       "      <th>GATS1i</th>\n",
       "      <th>NdsCH</th>\n",
       "      <th>NdssC</th>\n",
       "      <th>MLOGP</th>\n",
       "      <th>LC50 [-LOG(mol/L)]</th>\n",
       "    </tr>\n",
       "  </thead>\n",
       "  <tbody>\n",
       "    <tr>\n",
       "      <th>0</th>\n",
       "      <td>3.260</td>\n",
       "      <td>0.829</td>\n",
       "      <td>1.676</td>\n",
       "      <td>0</td>\n",
       "      <td>1</td>\n",
       "      <td>1.453</td>\n",
       "      <td>3.770</td>\n",
       "    </tr>\n",
       "    <tr>\n",
       "      <th>1</th>\n",
       "      <td>2.189</td>\n",
       "      <td>0.580</td>\n",
       "      <td>0.863</td>\n",
       "      <td>0</td>\n",
       "      <td>0</td>\n",
       "      <td>1.348</td>\n",
       "      <td>3.115</td>\n",
       "    </tr>\n",
       "    <tr>\n",
       "      <th>2</th>\n",
       "      <td>2.125</td>\n",
       "      <td>0.638</td>\n",
       "      <td>0.831</td>\n",
       "      <td>0</td>\n",
       "      <td>0</td>\n",
       "      <td>1.348</td>\n",
       "      <td>3.531</td>\n",
       "    </tr>\n",
       "    <tr>\n",
       "      <th>3</th>\n",
       "      <td>3.027</td>\n",
       "      <td>0.331</td>\n",
       "      <td>1.472</td>\n",
       "      <td>1</td>\n",
       "      <td>0</td>\n",
       "      <td>1.807</td>\n",
       "      <td>3.510</td>\n",
       "    </tr>\n",
       "    <tr>\n",
       "      <th>4</th>\n",
       "      <td>2.094</td>\n",
       "      <td>0.827</td>\n",
       "      <td>0.860</td>\n",
       "      <td>0</td>\n",
       "      <td>0</td>\n",
       "      <td>1.886</td>\n",
       "      <td>5.390</td>\n",
       "    </tr>\n",
       "  </tbody>\n",
       "</table>\n",
       "</div>"
      ],
      "text/plain": [
       "    CIC0  SM1_Dz(Z)  GATS1i  NdsCH  NdssC  MLOGP  LC50 [-LOG(mol/L)]\n",
       "0  3.260      0.829   1.676      0      1  1.453               3.770\n",
       "1  2.189      0.580   0.863      0      0  1.348               3.115\n",
       "2  2.125      0.638   0.831      0      0  1.348               3.531\n",
       "3  3.027      0.331   1.472      1      0  1.807               3.510\n",
       "4  2.094      0.827   0.860      0      0  1.886               5.390"
      ]
     },
     "execution_count": 3,
     "metadata": {},
     "output_type": "execute_result"
    }
   ],
   "source": [
    "data.head()"
   ]
  },
  {
   "cell_type": "code",
   "execution_count": 4,
   "metadata": {
    "colab": {
     "base_uri": "https://localhost:8080/"
    },
    "id": "4pzuIb0AlgZ9",
    "outputId": "1f01504e-9db1-40cb-fee5-3e631e42652b"
   },
   "outputs": [
    {
     "data": {
      "text/plain": [
       "['CIC0',\n",
       " 'SM1_Dz(Z)',\n",
       " 'GATS1i',\n",
       " 'NdsCH',\n",
       " 'NdssC',\n",
       " 'MLOGP',\n",
       " 'LC50 [-LOG(mol/L)]']"
      ]
     },
     "execution_count": 4,
     "metadata": {},
     "output_type": "execute_result"
    }
   ],
   "source": [
    "column_names = list(data.columns)\n",
    "column_names"
   ]
  },
  {
   "cell_type": "code",
   "execution_count": 5,
   "metadata": {
    "colab": {
     "base_uri": "https://localhost:8080/",
     "height": 206
    },
    "id": "4bKMIdaRZZkq",
    "outputId": "fa50e170-314e-4c66-e3fb-5b9f789937be"
   },
   "outputs": [
    {
     "data": {
      "text/html": [
       "<div>\n",
       "<style scoped>\n",
       "    .dataframe tbody tr th:only-of-type {\n",
       "        vertical-align: middle;\n",
       "    }\n",
       "\n",
       "    .dataframe tbody tr th {\n",
       "        vertical-align: top;\n",
       "    }\n",
       "\n",
       "    .dataframe thead th {\n",
       "        text-align: right;\n",
       "    }\n",
       "</style>\n",
       "<table border=\"1\" class=\"dataframe\">\n",
       "  <thead>\n",
       "    <tr style=\"text-align: right;\">\n",
       "      <th></th>\n",
       "      <th>CIC0</th>\n",
       "      <th>SM1_Dz(Z)</th>\n",
       "      <th>GATS1i</th>\n",
       "      <th>NdsCH</th>\n",
       "      <th>NdssC</th>\n",
       "      <th>MLOGP</th>\n",
       "      <th>LC50 [-LOG(mol/L)]</th>\n",
       "    </tr>\n",
       "  </thead>\n",
       "  <tbody>\n",
       "    <tr>\n",
       "      <th>903</th>\n",
       "      <td>2.801</td>\n",
       "      <td>0.728</td>\n",
       "      <td>2.226</td>\n",
       "      <td>0</td>\n",
       "      <td>2</td>\n",
       "      <td>0.736</td>\n",
       "      <td>3.109</td>\n",
       "    </tr>\n",
       "    <tr>\n",
       "      <th>904</th>\n",
       "      <td>3.652</td>\n",
       "      <td>0.872</td>\n",
       "      <td>0.867</td>\n",
       "      <td>2</td>\n",
       "      <td>3</td>\n",
       "      <td>3.983</td>\n",
       "      <td>4.040</td>\n",
       "    </tr>\n",
       "    <tr>\n",
       "      <th>905</th>\n",
       "      <td>3.763</td>\n",
       "      <td>0.916</td>\n",
       "      <td>0.878</td>\n",
       "      <td>0</td>\n",
       "      <td>6</td>\n",
       "      <td>2.918</td>\n",
       "      <td>4.818</td>\n",
       "    </tr>\n",
       "    <tr>\n",
       "      <th>906</th>\n",
       "      <td>2.831</td>\n",
       "      <td>1.393</td>\n",
       "      <td>1.077</td>\n",
       "      <td>0</td>\n",
       "      <td>1</td>\n",
       "      <td>0.906</td>\n",
       "      <td>5.317</td>\n",
       "    </tr>\n",
       "    <tr>\n",
       "      <th>907</th>\n",
       "      <td>4.057</td>\n",
       "      <td>1.032</td>\n",
       "      <td>1.183</td>\n",
       "      <td>1</td>\n",
       "      <td>3</td>\n",
       "      <td>4.754</td>\n",
       "      <td>8.201</td>\n",
       "    </tr>\n",
       "  </tbody>\n",
       "</table>\n",
       "</div>"
      ],
      "text/plain": [
       "      CIC0  SM1_Dz(Z)  GATS1i  NdsCH  NdssC  MLOGP  LC50 [-LOG(mol/L)]\n",
       "903  2.801      0.728   2.226      0      2  0.736               3.109\n",
       "904  3.652      0.872   0.867      2      3  3.983               4.040\n",
       "905  3.763      0.916   0.878      0      6  2.918               4.818\n",
       "906  2.831      1.393   1.077      0      1  0.906               5.317\n",
       "907  4.057      1.032   1.183      1      3  4.754               8.201"
      ]
     },
     "execution_count": 5,
     "metadata": {},
     "output_type": "execute_result"
    }
   ],
   "source": [
    "data.tail()"
   ]
  },
  {
   "cell_type": "code",
   "execution_count": 6,
   "metadata": {
    "colab": {
     "base_uri": "https://localhost:8080/"
    },
    "id": "0cdAJ-zVZbwc",
    "outputId": "fd2b2833-626d-4026-fd18-586fc7acb38e"
   },
   "outputs": [
    {
     "data": {
      "text/plain": [
       "CIC0                  0\n",
       "SM1_Dz(Z)             0\n",
       "GATS1i                0\n",
       "NdsCH                 0\n",
       "NdssC                 0\n",
       "MLOGP                 0\n",
       "LC50 [-LOG(mol/L)]    0\n",
       "dtype: int64"
      ]
     },
     "execution_count": 6,
     "metadata": {},
     "output_type": "execute_result"
    }
   ],
   "source": [
    "data.isnull().sum()"
   ]
  },
  {
   "cell_type": "code",
   "execution_count": 7,
   "metadata": {
    "colab": {
     "base_uri": "https://localhost:8080/",
     "height": 300
    },
    "id": "hvcT3bp09_X3",
    "outputId": "62403411-b7ee-4a94-fe16-6256c758ee35"
   },
   "outputs": [
    {
     "data": {
      "text/html": [
       "<div>\n",
       "<style scoped>\n",
       "    .dataframe tbody tr th:only-of-type {\n",
       "        vertical-align: middle;\n",
       "    }\n",
       "\n",
       "    .dataframe tbody tr th {\n",
       "        vertical-align: top;\n",
       "    }\n",
       "\n",
       "    .dataframe thead th {\n",
       "        text-align: right;\n",
       "    }\n",
       "</style>\n",
       "<table border=\"1\" class=\"dataframe\">\n",
       "  <thead>\n",
       "    <tr style=\"text-align: right;\">\n",
       "      <th></th>\n",
       "      <th>CIC0</th>\n",
       "      <th>SM1_Dz(Z)</th>\n",
       "      <th>GATS1i</th>\n",
       "      <th>NdsCH</th>\n",
       "      <th>NdssC</th>\n",
       "      <th>MLOGP</th>\n",
       "      <th>LC50 [-LOG(mol/L)]</th>\n",
       "    </tr>\n",
       "  </thead>\n",
       "  <tbody>\n",
       "    <tr>\n",
       "      <th>count</th>\n",
       "      <td>908.000000</td>\n",
       "      <td>908.000000</td>\n",
       "      <td>908.000000</td>\n",
       "      <td>908.000000</td>\n",
       "      <td>908.000000</td>\n",
       "      <td>908.000000</td>\n",
       "      <td>908.000000</td>\n",
       "    </tr>\n",
       "    <tr>\n",
       "      <th>mean</th>\n",
       "      <td>2.898129</td>\n",
       "      <td>0.628468</td>\n",
       "      <td>1.293591</td>\n",
       "      <td>0.229075</td>\n",
       "      <td>0.485683</td>\n",
       "      <td>2.109285</td>\n",
       "      <td>4.064431</td>\n",
       "    </tr>\n",
       "    <tr>\n",
       "      <th>std</th>\n",
       "      <td>0.756088</td>\n",
       "      <td>0.428459</td>\n",
       "      <td>0.394303</td>\n",
       "      <td>0.605335</td>\n",
       "      <td>0.861279</td>\n",
       "      <td>1.433181</td>\n",
       "      <td>1.455698</td>\n",
       "    </tr>\n",
       "    <tr>\n",
       "      <th>min</th>\n",
       "      <td>0.667000</td>\n",
       "      <td>0.000000</td>\n",
       "      <td>0.396000</td>\n",
       "      <td>0.000000</td>\n",
       "      <td>0.000000</td>\n",
       "      <td>-2.884000</td>\n",
       "      <td>0.053000</td>\n",
       "    </tr>\n",
       "    <tr>\n",
       "      <th>25%</th>\n",
       "      <td>2.347000</td>\n",
       "      <td>0.223000</td>\n",
       "      <td>0.950750</td>\n",
       "      <td>0.000000</td>\n",
       "      <td>0.000000</td>\n",
       "      <td>1.209000</td>\n",
       "      <td>3.151750</td>\n",
       "    </tr>\n",
       "    <tr>\n",
       "      <th>50%</th>\n",
       "      <td>2.934000</td>\n",
       "      <td>0.570000</td>\n",
       "      <td>1.240500</td>\n",
       "      <td>0.000000</td>\n",
       "      <td>0.000000</td>\n",
       "      <td>2.127000</td>\n",
       "      <td>3.987500</td>\n",
       "    </tr>\n",
       "    <tr>\n",
       "      <th>75%</th>\n",
       "      <td>3.407000</td>\n",
       "      <td>0.892750</td>\n",
       "      <td>1.562250</td>\n",
       "      <td>0.000000</td>\n",
       "      <td>1.000000</td>\n",
       "      <td>3.105000</td>\n",
       "      <td>4.907500</td>\n",
       "    </tr>\n",
       "    <tr>\n",
       "      <th>max</th>\n",
       "      <td>5.926000</td>\n",
       "      <td>2.171000</td>\n",
       "      <td>2.920000</td>\n",
       "      <td>4.000000</td>\n",
       "      <td>6.000000</td>\n",
       "      <td>6.515000</td>\n",
       "      <td>9.612000</td>\n",
       "    </tr>\n",
       "  </tbody>\n",
       "</table>\n",
       "</div>"
      ],
      "text/plain": [
       "             CIC0   SM1_Dz(Z)      GATS1i       NdsCH       NdssC       MLOGP  \\\n",
       "count  908.000000  908.000000  908.000000  908.000000  908.000000  908.000000   \n",
       "mean     2.898129    0.628468    1.293591    0.229075    0.485683    2.109285   \n",
       "std      0.756088    0.428459    0.394303    0.605335    0.861279    1.433181   \n",
       "min      0.667000    0.000000    0.396000    0.000000    0.000000   -2.884000   \n",
       "25%      2.347000    0.223000    0.950750    0.000000    0.000000    1.209000   \n",
       "50%      2.934000    0.570000    1.240500    0.000000    0.000000    2.127000   \n",
       "75%      3.407000    0.892750    1.562250    0.000000    1.000000    3.105000   \n",
       "max      5.926000    2.171000    2.920000    4.000000    6.000000    6.515000   \n",
       "\n",
       "       LC50 [-LOG(mol/L)]  \n",
       "count          908.000000  \n",
       "mean             4.064431  \n",
       "std              1.455698  \n",
       "min              0.053000  \n",
       "25%              3.151750  \n",
       "50%              3.987500  \n",
       "75%              4.907500  \n",
       "max              9.612000  "
      ]
     },
     "execution_count": 7,
     "metadata": {},
     "output_type": "execute_result"
    }
   ],
   "source": [
    "data.describe()"
   ]
  },
  {
   "cell_type": "code",
   "execution_count": 8,
   "metadata": {
    "colab": {
     "base_uri": "https://localhost:8080/"
    },
    "id": "7gAPOaD0q4b3",
    "outputId": "c6be1317-2c15-4d1d-aa67-af975112db52"
   },
   "outputs": [
    {
     "data": {
      "text/plain": [
       "CIC0                  0.756088\n",
       "SM1_Dz(Z)             0.428459\n",
       "GATS1i                0.394303\n",
       "NdsCH                 0.605335\n",
       "NdssC                 0.861279\n",
       "MLOGP                 1.433181\n",
       "LC50 [-LOG(mol/L)]    1.455698\n",
       "dtype: float64"
      ]
     },
     "execution_count": 8,
     "metadata": {},
     "output_type": "execute_result"
    }
   ],
   "source": [
    "data.std()"
   ]
  },
  {
   "cell_type": "code",
   "execution_count": 9,
   "metadata": {
    "colab": {
     "base_uri": "https://localhost:8080/"
    },
    "id": "Bd4vBxqphtXm",
    "outputId": "1e2fab8f-2761-488e-9a35-bbdc2e1cfc95"
   },
   "outputs": [
    {
     "name": "stdout",
     "output_type": "stream",
     "text": [
      "[[ 0.47887329  0.46828848  0.97036948 ...  0.59748428 -0.45817453\n",
      "  -0.20237219]\n",
      " [-0.93840825 -0.11318414 -1.09263435 ... -0.56421963 -0.53147852\n",
      "  -0.652576  ]\n",
      " [-1.02310108  0.02225928 -1.173835   ... -0.56421963 -0.53147852\n",
      "  -0.36664503]\n",
      " ...\n",
      " [ 1.14450599  0.67145361 -1.05457155 ...  6.40600388  0.56459064\n",
      "   0.5179539 ]\n",
      " [-0.08883332  1.78535897 -0.54960505 ...  0.59748428 -0.8400534\n",
      "   0.86093359]\n",
      " [ 1.53356366  0.94234045 -0.28062792 ...  2.92089212  1.84636323\n",
      "   2.84320501]]\n"
     ]
    }
   ],
   "source": [
    "from sklearn.preprocessing import StandardScaler\n",
    "scaler = StandardScaler()\n",
    "scaled_data=scaler.fit_transform(data)\n",
    "print(scaled_data)"
   ]
  },
  {
   "cell_type": "code",
   "execution_count": 10,
   "metadata": {
    "colab": {
     "base_uri": "https://localhost:8080/",
     "height": 206
    },
    "id": "7rhTrZJCh-98",
    "outputId": "879abf03-e489-4cc0-c07a-c6ba012708e5"
   },
   "outputs": [
    {
     "data": {
      "text/html": [
       "<div>\n",
       "<style scoped>\n",
       "    .dataframe tbody tr th:only-of-type {\n",
       "        vertical-align: middle;\n",
       "    }\n",
       "\n",
       "    .dataframe tbody tr th {\n",
       "        vertical-align: top;\n",
       "    }\n",
       "\n",
       "    .dataframe thead th {\n",
       "        text-align: right;\n",
       "    }\n",
       "</style>\n",
       "<table border=\"1\" class=\"dataframe\">\n",
       "  <thead>\n",
       "    <tr style=\"text-align: right;\">\n",
       "      <th></th>\n",
       "      <th>0</th>\n",
       "      <th>1</th>\n",
       "      <th>2</th>\n",
       "      <th>3</th>\n",
       "      <th>4</th>\n",
       "      <th>5</th>\n",
       "      <th>6</th>\n",
       "    </tr>\n",
       "  </thead>\n",
       "  <tbody>\n",
       "    <tr>\n",
       "      <th>0</th>\n",
       "      <td>0.478873</td>\n",
       "      <td>0.468288</td>\n",
       "      <td>0.970369</td>\n",
       "      <td>-0.378635</td>\n",
       "      <td>0.597484</td>\n",
       "      <td>-0.458175</td>\n",
       "      <td>-0.202372</td>\n",
       "    </tr>\n",
       "    <tr>\n",
       "      <th>1</th>\n",
       "      <td>-0.938408</td>\n",
       "      <td>-0.113184</td>\n",
       "      <td>-1.092634</td>\n",
       "      <td>-0.378635</td>\n",
       "      <td>-0.564220</td>\n",
       "      <td>-0.531479</td>\n",
       "      <td>-0.652576</td>\n",
       "    </tr>\n",
       "    <tr>\n",
       "      <th>2</th>\n",
       "      <td>-1.023101</td>\n",
       "      <td>0.022259</td>\n",
       "      <td>-1.173835</td>\n",
       "      <td>-0.378635</td>\n",
       "      <td>-0.564220</td>\n",
       "      <td>-0.531479</td>\n",
       "      <td>-0.366645</td>\n",
       "    </tr>\n",
       "    <tr>\n",
       "      <th>3</th>\n",
       "      <td>0.170538</td>\n",
       "      <td>-0.694657</td>\n",
       "      <td>0.452715</td>\n",
       "      <td>1.274253</td>\n",
       "      <td>-0.564220</td>\n",
       "      <td>-0.211035</td>\n",
       "      <td>-0.381079</td>\n",
       "    </tr>\n",
       "    <tr>\n",
       "      <th>4</th>\n",
       "      <td>-1.064124</td>\n",
       "      <td>0.463618</td>\n",
       "      <td>-1.100247</td>\n",
       "      <td>-0.378635</td>\n",
       "      <td>-0.564220</td>\n",
       "      <td>-0.155883</td>\n",
       "      <td>0.911109</td>\n",
       "    </tr>\n",
       "  </tbody>\n",
       "</table>\n",
       "</div>"
      ],
      "text/plain": [
       "          0         1         2         3         4         5         6\n",
       "0  0.478873  0.468288  0.970369 -0.378635  0.597484 -0.458175 -0.202372\n",
       "1 -0.938408 -0.113184 -1.092634 -0.378635 -0.564220 -0.531479 -0.652576\n",
       "2 -1.023101  0.022259 -1.173835 -0.378635 -0.564220 -0.531479 -0.366645\n",
       "3  0.170538 -0.694657  0.452715  1.274253 -0.564220 -0.211035 -0.381079\n",
       "4 -1.064124  0.463618 -1.100247 -0.378635 -0.564220 -0.155883  0.911109"
      ]
     },
     "execution_count": 10,
     "metadata": {},
     "output_type": "execute_result"
    }
   ],
   "source": [
    "df = pd.DataFrame(scaled_data)\n",
    "df.head()"
   ]
  },
  {
   "cell_type": "code",
   "execution_count": 11,
   "metadata": {
    "colab": {
     "base_uri": "https://localhost:8080/",
     "height": 423
    },
    "id": "dPRVJOpUi5CZ",
    "outputId": "5b7a055a-09d1-4286-f7ce-f99aff148b76"
   },
   "outputs": [
    {
     "data": {
      "text/html": [
       "<div>\n",
       "<style scoped>\n",
       "    .dataframe tbody tr th:only-of-type {\n",
       "        vertical-align: middle;\n",
       "    }\n",
       "\n",
       "    .dataframe tbody tr th {\n",
       "        vertical-align: top;\n",
       "    }\n",
       "\n",
       "    .dataframe thead th {\n",
       "        text-align: right;\n",
       "    }\n",
       "</style>\n",
       "<table border=\"1\" class=\"dataframe\">\n",
       "  <thead>\n",
       "    <tr style=\"text-align: right;\">\n",
       "      <th></th>\n",
       "      <th>CIC0</th>\n",
       "      <th>SM1_Dz(Z)</th>\n",
       "      <th>GATS1i</th>\n",
       "      <th>NdsCH</th>\n",
       "      <th>NdssC</th>\n",
       "      <th>MLOGP</th>\n",
       "      <th>LC50 [-LOG(mol/L)]</th>\n",
       "    </tr>\n",
       "  </thead>\n",
       "  <tbody>\n",
       "    <tr>\n",
       "      <th>0</th>\n",
       "      <td>0.478873</td>\n",
       "      <td>0.468288</td>\n",
       "      <td>0.970369</td>\n",
       "      <td>-0.378635</td>\n",
       "      <td>0.597484</td>\n",
       "      <td>-0.458175</td>\n",
       "      <td>-0.202372</td>\n",
       "    </tr>\n",
       "    <tr>\n",
       "      <th>1</th>\n",
       "      <td>-0.938408</td>\n",
       "      <td>-0.113184</td>\n",
       "      <td>-1.092634</td>\n",
       "      <td>-0.378635</td>\n",
       "      <td>-0.564220</td>\n",
       "      <td>-0.531479</td>\n",
       "      <td>-0.652576</td>\n",
       "    </tr>\n",
       "    <tr>\n",
       "      <th>2</th>\n",
       "      <td>-1.023101</td>\n",
       "      <td>0.022259</td>\n",
       "      <td>-1.173835</td>\n",
       "      <td>-0.378635</td>\n",
       "      <td>-0.564220</td>\n",
       "      <td>-0.531479</td>\n",
       "      <td>-0.366645</td>\n",
       "    </tr>\n",
       "    <tr>\n",
       "      <th>3</th>\n",
       "      <td>0.170538</td>\n",
       "      <td>-0.694657</td>\n",
       "      <td>0.452715</td>\n",
       "      <td>1.274253</td>\n",
       "      <td>-0.564220</td>\n",
       "      <td>-0.211035</td>\n",
       "      <td>-0.381079</td>\n",
       "    </tr>\n",
       "    <tr>\n",
       "      <th>4</th>\n",
       "      <td>-1.064124</td>\n",
       "      <td>0.463618</td>\n",
       "      <td>-1.100247</td>\n",
       "      <td>-0.378635</td>\n",
       "      <td>-0.564220</td>\n",
       "      <td>-0.155883</td>\n",
       "      <td>0.911109</td>\n",
       "    </tr>\n",
       "    <tr>\n",
       "      <th>...</th>\n",
       "      <td>...</td>\n",
       "      <td>...</td>\n",
       "      <td>...</td>\n",
       "      <td>...</td>\n",
       "      <td>...</td>\n",
       "      <td>...</td>\n",
       "      <td>...</td>\n",
       "    </tr>\n",
       "    <tr>\n",
       "      <th>903</th>\n",
       "      <td>-0.128533</td>\n",
       "      <td>0.232430</td>\n",
       "      <td>2.366006</td>\n",
       "      <td>-0.378635</td>\n",
       "      <td>1.759188</td>\n",
       "      <td>-0.958736</td>\n",
       "      <td>-0.656700</td>\n",
       "    </tr>\n",
       "    <tr>\n",
       "      <th>904</th>\n",
       "      <td>0.997617</td>\n",
       "      <td>0.568703</td>\n",
       "      <td>-1.082484</td>\n",
       "      <td>2.927141</td>\n",
       "      <td>2.920892</td>\n",
       "      <td>1.308103</td>\n",
       "      <td>-0.016792</td>\n",
       "    </tr>\n",
       "    <tr>\n",
       "      <th>905</th>\n",
       "      <td>1.144506</td>\n",
       "      <td>0.671454</td>\n",
       "      <td>-1.054572</td>\n",
       "      <td>-0.378635</td>\n",
       "      <td>6.406004</td>\n",
       "      <td>0.564591</td>\n",
       "      <td>0.517954</td>\n",
       "    </tr>\n",
       "    <tr>\n",
       "      <th>906</th>\n",
       "      <td>-0.088833</td>\n",
       "      <td>1.785359</td>\n",
       "      <td>-0.549605</td>\n",
       "      <td>-0.378635</td>\n",
       "      <td>0.597484</td>\n",
       "      <td>-0.840053</td>\n",
       "      <td>0.860934</td>\n",
       "    </tr>\n",
       "    <tr>\n",
       "      <th>907</th>\n",
       "      <td>1.533564</td>\n",
       "      <td>0.942340</td>\n",
       "      <td>-0.280628</td>\n",
       "      <td>1.274253</td>\n",
       "      <td>2.920892</td>\n",
       "      <td>1.846363</td>\n",
       "      <td>2.843205</td>\n",
       "    </tr>\n",
       "  </tbody>\n",
       "</table>\n",
       "<p>908 rows × 7 columns</p>\n",
       "</div>"
      ],
      "text/plain": [
       "         CIC0  SM1_Dz(Z)    GATS1i     NdsCH     NdssC     MLOGP  \\\n",
       "0    0.478873   0.468288  0.970369 -0.378635  0.597484 -0.458175   \n",
       "1   -0.938408  -0.113184 -1.092634 -0.378635 -0.564220 -0.531479   \n",
       "2   -1.023101   0.022259 -1.173835 -0.378635 -0.564220 -0.531479   \n",
       "3    0.170538  -0.694657  0.452715  1.274253 -0.564220 -0.211035   \n",
       "4   -1.064124   0.463618 -1.100247 -0.378635 -0.564220 -0.155883   \n",
       "..        ...        ...       ...       ...       ...       ...   \n",
       "903 -0.128533   0.232430  2.366006 -0.378635  1.759188 -0.958736   \n",
       "904  0.997617   0.568703 -1.082484  2.927141  2.920892  1.308103   \n",
       "905  1.144506   0.671454 -1.054572 -0.378635  6.406004  0.564591   \n",
       "906 -0.088833   1.785359 -0.549605 -0.378635  0.597484 -0.840053   \n",
       "907  1.533564   0.942340 -0.280628  1.274253  2.920892  1.846363   \n",
       "\n",
       "     LC50 [-LOG(mol/L)]  \n",
       "0             -0.202372  \n",
       "1             -0.652576  \n",
       "2             -0.366645  \n",
       "3             -0.381079  \n",
       "4              0.911109  \n",
       "..                  ...  \n",
       "903           -0.656700  \n",
       "904           -0.016792  \n",
       "905            0.517954  \n",
       "906            0.860934  \n",
       "907            2.843205  \n",
       "\n",
       "[908 rows x 7 columns]"
      ]
     },
     "execution_count": 11,
     "metadata": {},
     "output_type": "execute_result"
    }
   ],
   "source": [
    "df.columns = column_names\n",
    "df"
   ]
  },
  {
   "cell_type": "code",
   "execution_count": 12,
   "metadata": {
    "id": "q3zoBDyCjW72"
   },
   "outputs": [],
   "source": [
    "X = df.drop(['LC50 [-LOG(mol/L)]'], axis=1)"
   ]
  },
  {
   "cell_type": "code",
   "execution_count": 13,
   "metadata": {
    "colab": {
     "base_uri": "https://localhost:8080/",
     "height": 206
    },
    "id": "sqZmxtuzjgOt",
    "outputId": "6f0c3723-b508-4c2e-c01e-3bc47de2bc25"
   },
   "outputs": [
    {
     "data": {
      "text/html": [
       "<div>\n",
       "<style scoped>\n",
       "    .dataframe tbody tr th:only-of-type {\n",
       "        vertical-align: middle;\n",
       "    }\n",
       "\n",
       "    .dataframe tbody tr th {\n",
       "        vertical-align: top;\n",
       "    }\n",
       "\n",
       "    .dataframe thead th {\n",
       "        text-align: right;\n",
       "    }\n",
       "</style>\n",
       "<table border=\"1\" class=\"dataframe\">\n",
       "  <thead>\n",
       "    <tr style=\"text-align: right;\">\n",
       "      <th></th>\n",
       "      <th>CIC0</th>\n",
       "      <th>SM1_Dz(Z)</th>\n",
       "      <th>GATS1i</th>\n",
       "      <th>NdsCH</th>\n",
       "      <th>NdssC</th>\n",
       "      <th>MLOGP</th>\n",
       "    </tr>\n",
       "  </thead>\n",
       "  <tbody>\n",
       "    <tr>\n",
       "      <th>0</th>\n",
       "      <td>0.478873</td>\n",
       "      <td>0.468288</td>\n",
       "      <td>0.970369</td>\n",
       "      <td>-0.378635</td>\n",
       "      <td>0.597484</td>\n",
       "      <td>-0.458175</td>\n",
       "    </tr>\n",
       "    <tr>\n",
       "      <th>1</th>\n",
       "      <td>-0.938408</td>\n",
       "      <td>-0.113184</td>\n",
       "      <td>-1.092634</td>\n",
       "      <td>-0.378635</td>\n",
       "      <td>-0.564220</td>\n",
       "      <td>-0.531479</td>\n",
       "    </tr>\n",
       "    <tr>\n",
       "      <th>2</th>\n",
       "      <td>-1.023101</td>\n",
       "      <td>0.022259</td>\n",
       "      <td>-1.173835</td>\n",
       "      <td>-0.378635</td>\n",
       "      <td>-0.564220</td>\n",
       "      <td>-0.531479</td>\n",
       "    </tr>\n",
       "    <tr>\n",
       "      <th>3</th>\n",
       "      <td>0.170538</td>\n",
       "      <td>-0.694657</td>\n",
       "      <td>0.452715</td>\n",
       "      <td>1.274253</td>\n",
       "      <td>-0.564220</td>\n",
       "      <td>-0.211035</td>\n",
       "    </tr>\n",
       "    <tr>\n",
       "      <th>4</th>\n",
       "      <td>-1.064124</td>\n",
       "      <td>0.463618</td>\n",
       "      <td>-1.100247</td>\n",
       "      <td>-0.378635</td>\n",
       "      <td>-0.564220</td>\n",
       "      <td>-0.155883</td>\n",
       "    </tr>\n",
       "  </tbody>\n",
       "</table>\n",
       "</div>"
      ],
      "text/plain": [
       "       CIC0  SM1_Dz(Z)    GATS1i     NdsCH     NdssC     MLOGP\n",
       "0  0.478873   0.468288  0.970369 -0.378635  0.597484 -0.458175\n",
       "1 -0.938408  -0.113184 -1.092634 -0.378635 -0.564220 -0.531479\n",
       "2 -1.023101   0.022259 -1.173835 -0.378635 -0.564220 -0.531479\n",
       "3  0.170538  -0.694657  0.452715  1.274253 -0.564220 -0.211035\n",
       "4 -1.064124   0.463618 -1.100247 -0.378635 -0.564220 -0.155883"
      ]
     },
     "execution_count": 13,
     "metadata": {},
     "output_type": "execute_result"
    }
   ],
   "source": [
    "X.head()"
   ]
  },
  {
   "cell_type": "code",
   "execution_count": 14,
   "metadata": {
    "colab": {
     "base_uri": "https://localhost:8080/"
    },
    "id": "vcJzezCtl1rQ",
    "outputId": "a522adda-38a7-4890-e903-18cd82bc5979"
   },
   "outputs": [
    {
     "data": {
      "text/plain": [
       "0   -0.202372\n",
       "1   -0.652576\n",
       "2   -0.366645\n",
       "3   -0.381079\n",
       "4    0.911109\n",
       "Name: LC50 [-LOG(mol/L)], dtype: float64"
      ]
     },
     "execution_count": 14,
     "metadata": {},
     "output_type": "execute_result"
    }
   ],
   "source": [
    "y = df['LC50 [-LOG(mol/L)]']\n",
    "y.head()"
   ]
  },
  {
   "cell_type": "code",
   "execution_count": 15,
   "metadata": {
    "id": "9A4tuqHNl6hx"
   },
   "outputs": [],
   "source": [
    "model = LinearRegression(n_jobs=-1) \n",
    "X_train, X_test, y_train, y_test = train_test_split(X,y,test_size=0.2,random_state=1)"
   ]
  },
  {
   "cell_type": "code",
   "execution_count": 16,
   "metadata": {
    "id": "lvOthmuGqlUV"
   },
   "outputs": [],
   "source": [
    "params = {\n",
    "    'fit_intercept' : [True, False],\n",
    "    'positive' : [True, False]\n",
    "}"
   ]
  },
  {
   "cell_type": "code",
   "execution_count": 17,
   "metadata": {
    "colab": {
     "base_uri": "https://localhost:8080/"
    },
    "id": "Q77jiGtBmB9J",
    "outputId": "79794ab5-2fcb-4e62-c05f-365226aea60f"
   },
   "outputs": [
    {
     "data": {
      "text/plain": [
       "LinearRegression(n_jobs=-1)"
      ]
     },
     "execution_count": 17,
     "metadata": {},
     "output_type": "execute_result"
    }
   ],
   "source": [
    "model.fit(X_train, y_train)"
   ]
  },
  {
   "cell_type": "code",
   "execution_count": 18,
   "metadata": {
    "colab": {
     "base_uri": "https://localhost:8080/"
    },
    "id": "3cT4aDPCmEa0",
    "outputId": "56f3053b-ab41-457a-cbbe-114ae0db9acd"
   },
   "outputs": [],
   "source": [
    "y_pred = model.predict(X_test)"
   ]
  },
  {
   "cell_type": "code",
   "execution_count": 19,
   "metadata": {
    "colab": {
     "base_uri": "https://localhost:8080/"
    },
    "id": "ymhMlKQfmZVD",
    "outputId": "31bfae93-7f0a-4969-86b4-1f3d3e713b2f"
   },
   "outputs": [
    {
     "data": {
      "text/plain": [
       "0.4457532114727547"
      ]
     },
     "execution_count": 19,
     "metadata": {},
     "output_type": "execute_result"
    }
   ],
   "source": [
    "from sklearn.metrics import r2_score\n",
    "r2_score(y_test,y_pred)"
   ]
  },
  {
   "cell_type": "code",
   "execution_count": 20,
   "metadata": {
    "id": "UCoF5XFXnM9Q"
   },
   "outputs": [],
   "source": [
    "from sklearn.model_selection import GridSearchCV\n",
    "grid = GridSearchCV(estimator=model,param_grid=params,scoring='r2')"
   ]
  },
  {
   "cell_type": "code",
   "execution_count": 21,
   "metadata": {
    "colab": {
     "base_uri": "https://localhost:8080/"
    },
    "id": "HPCRMkfILq64",
    "outputId": "6c7feb1d-52af-4c14-f55f-b827411dd465"
   },
   "outputs": [
    {
     "data": {
      "text/plain": [
       "{'fit_intercept': False, 'positive': False}"
      ]
     },
     "execution_count": 21,
     "metadata": {},
     "output_type": "execute_result"
    }
   ],
   "source": [
    "model=grid.fit(X_train,y_train)\n",
    "model.best_params_"
   ]
  },
  {
   "cell_type": "code",
   "execution_count": 22,
   "metadata": {
    "id": "zFmHREFWQzFZ"
   },
   "outputs": [
    {
     "data": {
      "text/plain": [
       "0.5870883168345037"
      ]
     },
     "execution_count": 22,
     "metadata": {},
     "output_type": "execute_result"
    }
   ],
   "source": [
    "model.best_score_"
   ]
  },
  {
   "cell_type": "code",
   "execution_count": null,
   "metadata": {},
   "outputs": [],
   "source": []
  }
 ],
 "metadata": {
  "colab": {
   "authorship_tag": "ABX9TyOtHw9PXVSwUZhTuvaWoojZ",
   "collapsed_sections": [],
   "include_colab_link": true,
   "name": "LC50.ipynb",
   "provenance": []
  },
  "kernelspec": {
   "display_name": "Python 3",
   "language": "python",
   "name": "python3"
  },
  "language_info": {
   "codemirror_mode": {
    "name": "ipython",
    "version": 3
   },
   "file_extension": ".py",
   "mimetype": "text/x-python",
   "name": "python",
   "nbconvert_exporter": "python",
   "pygments_lexer": "ipython3",
   "version": "3.7.0"
  }
 },
 "nbformat": 4,
 "nbformat_minor": 1
}
