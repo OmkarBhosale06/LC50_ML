{
 "cells": [
  {
   "cell_type": "markdown",
   "metadata": {
    "colab_type": "text",
    "id": "view-in-github"
   },
   "source": [
    "<a href=\"https://colab.research.google.com/github/OmkarBhosale06/LC50_ML/blob/main/LC50.ipynb\" target=\"_parent\"><img src=\"https://colab.research.google.com/assets/colab-badge.svg\" alt=\"Open In Colab\"/></a>"
   ]
  },
  {
   "cell_type": "code",
   "execution_count": 1,
   "metadata": {
    "id": "VGPz9jKEW1RO"
   },
   "outputs": [],
   "source": [
    "import pandas as pd\n",
    "import numpy as np\n",
    "import matplotlib.pyplot as plt"
   ]
  },
  {
   "cell_type": "code",
   "execution_count": 2,
   "metadata": {
    "id": "enTHTgByYA_C"
   },
   "outputs": [],
   "source": [
    "dataset = './dataset/qsar_fish_toxicity.csv'\n",
    "data = pd.read_csv(dataset)"
   ]
  },
  {
   "cell_type": "code",
   "execution_count": 3,
   "metadata": {
    "colab": {
     "base_uri": "https://localhost:8080/",
     "height": 206
    },
    "id": "sNzeFzsgYZFI",
    "outputId": "a0a007e2-33b0-4c53-b7c0-f4086214c9a9"
   },
   "outputs": [
    {
     "data": {
      "text/html": [
       "<div>\n",
       "<style scoped>\n",
       "    .dataframe tbody tr th:only-of-type {\n",
       "        vertical-align: middle;\n",
       "    }\n",
       "\n",
       "    .dataframe tbody tr th {\n",
       "        vertical-align: top;\n",
       "    }\n",
       "\n",
       "    .dataframe thead th {\n",
       "        text-align: right;\n",
       "    }\n",
       "</style>\n",
       "<table border=\"1\" class=\"dataframe\">\n",
       "  <thead>\n",
       "    <tr style=\"text-align: right;\">\n",
       "      <th></th>\n",
       "      <th>CIC0</th>\n",
       "      <th>SM1_Dz(Z)</th>\n",
       "      <th>GATS1i</th>\n",
       "      <th>NdsCH</th>\n",
       "      <th>NdssC</th>\n",
       "      <th>MLOGP</th>\n",
       "      <th>LC50 [-LOG(mol/L)]</th>\n",
       "    </tr>\n",
       "  </thead>\n",
       "  <tbody>\n",
       "    <tr>\n",
       "      <th>0</th>\n",
       "      <td>3.260</td>\n",
       "      <td>0.829</td>\n",
       "      <td>1.676</td>\n",
       "      <td>0</td>\n",
       "      <td>1</td>\n",
       "      <td>1.453</td>\n",
       "      <td>3.770</td>\n",
       "    </tr>\n",
       "    <tr>\n",
       "      <th>1</th>\n",
       "      <td>2.189</td>\n",
       "      <td>0.580</td>\n",
       "      <td>0.863</td>\n",
       "      <td>0</td>\n",
       "      <td>0</td>\n",
       "      <td>1.348</td>\n",
       "      <td>3.115</td>\n",
       "    </tr>\n",
       "    <tr>\n",
       "      <th>2</th>\n",
       "      <td>2.125</td>\n",
       "      <td>0.638</td>\n",
       "      <td>0.831</td>\n",
       "      <td>0</td>\n",
       "      <td>0</td>\n",
       "      <td>1.348</td>\n",
       "      <td>3.531</td>\n",
       "    </tr>\n",
       "    <tr>\n",
       "      <th>3</th>\n",
       "      <td>3.027</td>\n",
       "      <td>0.331</td>\n",
       "      <td>1.472</td>\n",
       "      <td>1</td>\n",
       "      <td>0</td>\n",
       "      <td>1.807</td>\n",
       "      <td>3.510</td>\n",
       "    </tr>\n",
       "    <tr>\n",
       "      <th>4</th>\n",
       "      <td>2.094</td>\n",
       "      <td>0.827</td>\n",
       "      <td>0.860</td>\n",
       "      <td>0</td>\n",
       "      <td>0</td>\n",
       "      <td>1.886</td>\n",
       "      <td>5.390</td>\n",
       "    </tr>\n",
       "  </tbody>\n",
       "</table>\n",
       "</div>"
      ],
      "text/plain": [
       "    CIC0  SM1_Dz(Z)  GATS1i  NdsCH  NdssC  MLOGP  LC50 [-LOG(mol/L)]\n",
       "0  3.260      0.829   1.676      0      1  1.453               3.770\n",
       "1  2.189      0.580   0.863      0      0  1.348               3.115\n",
       "2  2.125      0.638   0.831      0      0  1.348               3.531\n",
       "3  3.027      0.331   1.472      1      0  1.807               3.510\n",
       "4  2.094      0.827   0.860      0      0  1.886               5.390"
      ]
     },
     "execution_count": 3,
     "metadata": {},
     "output_type": "execute_result"
    }
   ],
   "source": [
    "data.head()"
   ]
  },
  {
   "cell_type": "code",
   "execution_count": 4,
   "metadata": {
    "colab": {
     "base_uri": "https://localhost:8080/",
     "height": 206
    },
    "id": "4bKMIdaRZZkq",
    "outputId": "942ac883-6b68-40ec-dd86-117d8a51e3ee"
   },
   "outputs": [
    {
     "data": {
      "text/html": [
       "<div>\n",
       "<style scoped>\n",
       "    .dataframe tbody tr th:only-of-type {\n",
       "        vertical-align: middle;\n",
       "    }\n",
       "\n",
       "    .dataframe tbody tr th {\n",
       "        vertical-align: top;\n",
       "    }\n",
       "\n",
       "    .dataframe thead th {\n",
       "        text-align: right;\n",
       "    }\n",
       "</style>\n",
       "<table border=\"1\" class=\"dataframe\">\n",
       "  <thead>\n",
       "    <tr style=\"text-align: right;\">\n",
       "      <th></th>\n",
       "      <th>CIC0</th>\n",
       "      <th>SM1_Dz(Z)</th>\n",
       "      <th>GATS1i</th>\n",
       "      <th>NdsCH</th>\n",
       "      <th>NdssC</th>\n",
       "      <th>MLOGP</th>\n",
       "      <th>LC50 [-LOG(mol/L)]</th>\n",
       "    </tr>\n",
       "  </thead>\n",
       "  <tbody>\n",
       "    <tr>\n",
       "      <th>903</th>\n",
       "      <td>2.801</td>\n",
       "      <td>0.728</td>\n",
       "      <td>2.226</td>\n",
       "      <td>0</td>\n",
       "      <td>2</td>\n",
       "      <td>0.736</td>\n",
       "      <td>3.109</td>\n",
       "    </tr>\n",
       "    <tr>\n",
       "      <th>904</th>\n",
       "      <td>3.652</td>\n",
       "      <td>0.872</td>\n",
       "      <td>0.867</td>\n",
       "      <td>2</td>\n",
       "      <td>3</td>\n",
       "      <td>3.983</td>\n",
       "      <td>4.040</td>\n",
       "    </tr>\n",
       "    <tr>\n",
       "      <th>905</th>\n",
       "      <td>3.763</td>\n",
       "      <td>0.916</td>\n",
       "      <td>0.878</td>\n",
       "      <td>0</td>\n",
       "      <td>6</td>\n",
       "      <td>2.918</td>\n",
       "      <td>4.818</td>\n",
       "    </tr>\n",
       "    <tr>\n",
       "      <th>906</th>\n",
       "      <td>2.831</td>\n",
       "      <td>1.393</td>\n",
       "      <td>1.077</td>\n",
       "      <td>0</td>\n",
       "      <td>1</td>\n",
       "      <td>0.906</td>\n",
       "      <td>5.317</td>\n",
       "    </tr>\n",
       "    <tr>\n",
       "      <th>907</th>\n",
       "      <td>4.057</td>\n",
       "      <td>1.032</td>\n",
       "      <td>1.183</td>\n",
       "      <td>1</td>\n",
       "      <td>3</td>\n",
       "      <td>4.754</td>\n",
       "      <td>8.201</td>\n",
       "    </tr>\n",
       "  </tbody>\n",
       "</table>\n",
       "</div>"
      ],
      "text/plain": [
       "      CIC0  SM1_Dz(Z)  GATS1i  NdsCH  NdssC  MLOGP  LC50 [-LOG(mol/L)]\n",
       "903  2.801      0.728   2.226      0      2  0.736               3.109\n",
       "904  3.652      0.872   0.867      2      3  3.983               4.040\n",
       "905  3.763      0.916   0.878      0      6  2.918               4.818\n",
       "906  2.831      1.393   1.077      0      1  0.906               5.317\n",
       "907  4.057      1.032   1.183      1      3  4.754               8.201"
      ]
     },
     "execution_count": 4,
     "metadata": {},
     "output_type": "execute_result"
    }
   ],
   "source": [
    "data.tail()"
   ]
  },
  {
   "cell_type": "code",
   "execution_count": 5,
   "metadata": {
    "colab": {
     "base_uri": "https://localhost:8080/"
    },
    "id": "0cdAJ-zVZbwc",
    "outputId": "62a7af34-ec61-40bb-fb17-3bd3361ccdfd"
   },
   "outputs": [
    {
     "data": {
      "text/plain": [
       "CIC0                  0\n",
       "SM1_Dz(Z)             0\n",
       "GATS1i                0\n",
       "NdsCH                 0\n",
       "NdssC                 0\n",
       "MLOGP                 0\n",
       "LC50 [-LOG(mol/L)]    0\n",
       "dtype: int64"
      ]
     },
     "execution_count": 5,
     "metadata": {},
     "output_type": "execute_result"
    }
   ],
   "source": [
    "data.isnull().sum()"
   ]
  },
  {
   "cell_type": "code",
   "execution_count": 6,
   "metadata": {
    "colab": {
     "base_uri": "https://localhost:8080/",
     "height": 300
    },
    "id": "hvcT3bp09_X3",
    "outputId": "44695ec4-3a87-4707-b2ad-02c09c0c7340"
   },
   "outputs": [
    {
     "data": {
      "text/html": [
       "<div>\n",
       "<style scoped>\n",
       "    .dataframe tbody tr th:only-of-type {\n",
       "        vertical-align: middle;\n",
       "    }\n",
       "\n",
       "    .dataframe tbody tr th {\n",
       "        vertical-align: top;\n",
       "    }\n",
       "\n",
       "    .dataframe thead th {\n",
       "        text-align: right;\n",
       "    }\n",
       "</style>\n",
       "<table border=\"1\" class=\"dataframe\">\n",
       "  <thead>\n",
       "    <tr style=\"text-align: right;\">\n",
       "      <th></th>\n",
       "      <th>CIC0</th>\n",
       "      <th>SM1_Dz(Z)</th>\n",
       "      <th>GATS1i</th>\n",
       "      <th>NdsCH</th>\n",
       "      <th>NdssC</th>\n",
       "      <th>MLOGP</th>\n",
       "      <th>LC50 [-LOG(mol/L)]</th>\n",
       "    </tr>\n",
       "  </thead>\n",
       "  <tbody>\n",
       "    <tr>\n",
       "      <th>count</th>\n",
       "      <td>908.000000</td>\n",
       "      <td>908.000000</td>\n",
       "      <td>908.000000</td>\n",
       "      <td>908.000000</td>\n",
       "      <td>908.000000</td>\n",
       "      <td>908.000000</td>\n",
       "      <td>908.000000</td>\n",
       "    </tr>\n",
       "    <tr>\n",
       "      <th>mean</th>\n",
       "      <td>2.898129</td>\n",
       "      <td>0.628468</td>\n",
       "      <td>1.293591</td>\n",
       "      <td>0.229075</td>\n",
       "      <td>0.485683</td>\n",
       "      <td>2.109285</td>\n",
       "      <td>4.064431</td>\n",
       "    </tr>\n",
       "    <tr>\n",
       "      <th>std</th>\n",
       "      <td>0.756088</td>\n",
       "      <td>0.428459</td>\n",
       "      <td>0.394303</td>\n",
       "      <td>0.605335</td>\n",
       "      <td>0.861279</td>\n",
       "      <td>1.433181</td>\n",
       "      <td>1.455698</td>\n",
       "    </tr>\n",
       "    <tr>\n",
       "      <th>min</th>\n",
       "      <td>0.667000</td>\n",
       "      <td>0.000000</td>\n",
       "      <td>0.396000</td>\n",
       "      <td>0.000000</td>\n",
       "      <td>0.000000</td>\n",
       "      <td>-2.884000</td>\n",
       "      <td>0.053000</td>\n",
       "    </tr>\n",
       "    <tr>\n",
       "      <th>25%</th>\n",
       "      <td>2.347000</td>\n",
       "      <td>0.223000</td>\n",
       "      <td>0.950750</td>\n",
       "      <td>0.000000</td>\n",
       "      <td>0.000000</td>\n",
       "      <td>1.209000</td>\n",
       "      <td>3.151750</td>\n",
       "    </tr>\n",
       "    <tr>\n",
       "      <th>50%</th>\n",
       "      <td>2.934000</td>\n",
       "      <td>0.570000</td>\n",
       "      <td>1.240500</td>\n",
       "      <td>0.000000</td>\n",
       "      <td>0.000000</td>\n",
       "      <td>2.127000</td>\n",
       "      <td>3.987500</td>\n",
       "    </tr>\n",
       "    <tr>\n",
       "      <th>75%</th>\n",
       "      <td>3.407000</td>\n",
       "      <td>0.892750</td>\n",
       "      <td>1.562250</td>\n",
       "      <td>0.000000</td>\n",
       "      <td>1.000000</td>\n",
       "      <td>3.105000</td>\n",
       "      <td>4.907500</td>\n",
       "    </tr>\n",
       "    <tr>\n",
       "      <th>max</th>\n",
       "      <td>5.926000</td>\n",
       "      <td>2.171000</td>\n",
       "      <td>2.920000</td>\n",
       "      <td>4.000000</td>\n",
       "      <td>6.000000</td>\n",
       "      <td>6.515000</td>\n",
       "      <td>9.612000</td>\n",
       "    </tr>\n",
       "  </tbody>\n",
       "</table>\n",
       "</div>"
      ],
      "text/plain": [
       "             CIC0   SM1_Dz(Z)      GATS1i       NdsCH       NdssC       MLOGP  \\\n",
       "count  908.000000  908.000000  908.000000  908.000000  908.000000  908.000000   \n",
       "mean     2.898129    0.628468    1.293591    0.229075    0.485683    2.109285   \n",
       "std      0.756088    0.428459    0.394303    0.605335    0.861279    1.433181   \n",
       "min      0.667000    0.000000    0.396000    0.000000    0.000000   -2.884000   \n",
       "25%      2.347000    0.223000    0.950750    0.000000    0.000000    1.209000   \n",
       "50%      2.934000    0.570000    1.240500    0.000000    0.000000    2.127000   \n",
       "75%      3.407000    0.892750    1.562250    0.000000    1.000000    3.105000   \n",
       "max      5.926000    2.171000    2.920000    4.000000    6.000000    6.515000   \n",
       "\n",
       "       LC50 [-LOG(mol/L)]  \n",
       "count          908.000000  \n",
       "mean             4.064431  \n",
       "std              1.455698  \n",
       "min              0.053000  \n",
       "25%              3.151750  \n",
       "50%              3.987500  \n",
       "75%              4.907500  \n",
       "max              9.612000  "
      ]
     },
     "execution_count": 6,
     "metadata": {},
     "output_type": "execute_result"
    }
   ],
   "source": [
    "data.describe()"
   ]
  },
  {
   "cell_type": "code",
   "execution_count": 7,
   "metadata": {
    "colab": {
     "base_uri": "https://localhost:8080/",
     "height": 1000
    },
    "id": "mJZ7KYB0-tgp",
    "outputId": "c8e60fe9-c04d-4dfd-e3bc-d06c38bc7a13"
   },
   "outputs": [],
   "source": [
    "# plt.boxplot(data,vert=False)"
   ]
  },
  {
   "cell_type": "code",
   "execution_count": 8,
   "metadata": {
    "colab": {
     "base_uri": "https://localhost:8080/"
    },
    "id": "7gAPOaD0q4b3",
    "outputId": "48f6e7f9-84df-49ed-e71e-fa72203835bd"
   },
   "outputs": [
    {
     "data": {
      "text/plain": [
       "CIC0                  0.756088\n",
       "SM1_Dz(Z)             0.428459\n",
       "GATS1i                0.394303\n",
       "NdsCH                 0.605335\n",
       "NdssC                 0.861279\n",
       "MLOGP                 1.433181\n",
       "LC50 [-LOG(mol/L)]    1.455698\n",
       "dtype: float64"
      ]
     },
     "execution_count": 8,
     "metadata": {},
     "output_type": "execute_result"
    }
   ],
   "source": [
    "data.std()"
   ]
  },
  {
   "cell_type": "code",
   "execution_count": 9,
   "metadata": {
    "id": "_H7UiUUw_Z4s"
   },
   "outputs": [],
   "source": [
    "from sklearn.preprocessing import StandardScaler\n",
    "scaler = StandardScaler()"
   ]
  },
  {
   "cell_type": "code",
   "execution_count": 10,
   "metadata": {
    "colab": {
     "base_uri": "https://localhost:8080/"
    },
    "id": "Mv6OF7cyJBE2",
    "outputId": "11e21638-d945-499e-edd2-2b9e7ce53c56"
   },
   "outputs": [],
   "source": [
    "scaled_data = scaler.fit_transform(data)"
   ]
  }
 ],
 "metadata": {
  "colab": {
   "authorship_tag": "ABX9TyP2XbP85Q3J1czXTMlJh0MN",
   "collapsed_sections": [],
   "include_colab_link": true,
   "name": "Untitled12.ipynb",
   "provenance": []
  },
  "kernelspec": {
   "display_name": "Python 3",
   "language": "python",
   "name": "python3"
  },
  "language_info": {
   "codemirror_mode": {
    "name": "ipython",
    "version": 3
   },
   "file_extension": ".py",
   "mimetype": "text/x-python",
   "name": "python",
   "nbconvert_exporter": "python",
   "pygments_lexer": "ipython3",
   "version": "3.7.0"
  }
 },
 "nbformat": 4,
 "nbformat_minor": 1
}
